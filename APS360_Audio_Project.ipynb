{
  "nbformat": 4,
  "nbformat_minor": 0,
  "metadata": {
    "colab": {
      "name": "APS360 Audio Project.ipynb",
      "version": "0.3.2",
      "provenance": [],
      "collapsed_sections": [],
      "include_colab_link": true
    },
    "kernelspec": {
      "name": "python3",
      "display_name": "Python 3"
    },
    "accelerator": "GPU"
  },
  "cells": [
    {
      "cell_type": "markdown",
      "metadata": {
        "id": "view-in-github",
        "colab_type": "text"
      },
      "source": [
        "<a href=\"https://colab.research.google.com/github/kaylil/Audio-Speech-Separation/blob/master/APS360_Audio_Project.ipynb\" target=\"_parent\"><img src=\"https://colab.research.google.com/assets/colab-badge.svg\" alt=\"Open In Colab\"/></a>"
      ]
    },
    {
      "cell_type": "code",
      "metadata": {
        "id": "Q1VrWW81Da5a",
        "colab_type": "code",
        "outputId": "19498b9f-8f13-4838-ac68-3cd96d70ba8f",
        "colab": {
          "base_uri": "https://localhost:8080/",
          "height": 323
        }
      },
      "source": [
        "!pip install pydub\n",
        "!pip install sphfile\n",
        "!pip install wavio"
      ],
      "execution_count": 0,
      "outputs": [
        {
          "output_type": "stream",
          "text": [
            "Collecting pydub\n",
            "  Downloading https://files.pythonhosted.org/packages/79/db/eaf620b73a1eec3c8c6f8f5b0b236a50f9da88ad57802154b7ba7664d0b8/pydub-0.23.1-py2.py3-none-any.whl\n",
            "Installing collected packages: pydub\n",
            "Successfully installed pydub-0.23.1\n",
            "Collecting sphfile\n",
            "  Downloading https://files.pythonhosted.org/packages/60/f7/13771f2273bf187e4b379133450bc33a1b89fba194f20e4a29d964b6d983/sphfile-1.0.1.tar.gz\n",
            "Building wheels for collected packages: sphfile\n",
            "  Building wheel for sphfile (setup.py) ... \u001b[?25l\u001b[?25hdone\n",
            "  Created wheel for sphfile: filename=sphfile-1.0.1-cp36-none-any.whl size=3720 sha256=16846f7b07877393f9b7b7c0e4250ef740fc42e2f5478b797ee18b0c711dbc85\n",
            "  Stored in directory: /root/.cache/pip/wheels/73/a8/71/e339da6bfe707de7c5d1631750b163f36b6ec14efe48f97ec1\n",
            "Successfully built sphfile\n",
            "Installing collected packages: sphfile\n",
            "Successfully installed sphfile-1.0.1\n",
            "Collecting wavio\n",
            "  Downloading https://files.pythonhosted.org/packages/e6/98/8bf5ea39a3385cc806ba1146a280a113835e5df3b0ad25ca95eea8352040/wavio-0.0.4-py2.py3-none-any.whl\n",
            "Requirement already satisfied: numpy>=1.6.0 in /usr/local/lib/python3.6/dist-packages (from wavio) (1.16.4)\n",
            "Installing collected packages: wavio\n",
            "Successfully installed wavio-0.0.4\n"
          ],
          "name": "stdout"
        }
      ]
    },
    {
      "cell_type": "code",
      "metadata": {
        "id": "ukP8b6heuH2H",
        "colab_type": "code",
        "colab": {}
      },
      "source": [
        "#Imports\n",
        "import imp\n",
        "import random\n",
        "import wavio\n",
        "import math\n",
        "import os\n",
        "import shutil\n",
        "import datetime\n",
        "import numpy as np\n",
        "import torch.nn as nn\n",
        "import torch.nn.functional as F\n",
        "import matplotlib.pyplot as plt\n",
        "\n",
        "from scipy import signal\n",
        "from sphfile import SPHFile\n",
        "# from chamfer_distance import ChamferDistance\n",
        "\n",
        "import torch\n",
        "from torch.utils.data.dataset import Dataset\n",
        "from torch.utils.data import DataLoader\n",
        "from pydub import AudioSegment\n",
        "\n",
        "\n",
        "random.seed(42)"
      ],
      "execution_count": 0,
      "outputs": []
    },
    {
      "cell_type": "code",
      "metadata": {
        "id": "QrbN1rWNgkDL",
        "colab_type": "code",
        "outputId": "283d78c6-4de2-4281-a0ec-d0acb25cba8c",
        "colab": {
          "base_uri": "https://localhost:8080/",
          "height": 122
        }
      },
      "source": [
        "from google.colab import drive\n",
        "drive.mount('/content/gdrive', force_remount = True)"
      ],
      "execution_count": 0,
      "outputs": [
        {
          "output_type": "stream",
          "text": [
            "Go to this URL in a browser: https://accounts.google.com/o/oauth2/auth?client_id=947318989803-6bn6qk8qdgf4n4g3pfee6491hc0brc4i.apps.googleusercontent.com&redirect_uri=urn%3Aietf%3Awg%3Aoauth%3A2.0%3Aoob&scope=email%20https%3A%2F%2Fwww.googleapis.com%2Fauth%2Fdocs.test%20https%3A%2F%2Fwww.googleapis.com%2Fauth%2Fdrive%20https%3A%2F%2Fwww.googleapis.com%2Fauth%2Fdrive.photos.readonly%20https%3A%2F%2Fwww.googleapis.com%2Fauth%2Fpeopleapi.readonly&response_type=code\n",
            "\n",
            "Enter your authorization code:\n",
            "··········\n",
            "Mounted at /content/gdrive\n"
          ],
          "name": "stdout"
        }
      ]
    },
    {
      "cell_type": "code",
      "metadata": {
        "id": "j1KboATJQ7Ld",
        "colab_type": "code",
        "colab": {}
      },
      "source": [
        "def createDictionarOnlyFirst(directory):\n",
        "    #This function takes in a path which contains overlaid files and outputs a \n",
        "    #dictionary with Person1 as a key and the path of the overlaid file as the value\n",
        "    dictionary = {}\n",
        "    \n",
        "    for filename in os.listdir(directory):\n",
        "        _, person1, _, dialect2, person2, _ = getOverlayFileInfo(filename)\n",
        "        path1, path2 = getPathsFromOverlayFile(filename)\n",
        "        if (person1 not in dictionary):\n",
        "            dictionary[person1] = []\n",
        "            dictionary[person1].append(path2)\n",
        "        else:\n",
        "            dictionary[person1].append(path2)\n",
        "    return dictionary\n",
        "  \n",
        "def move():\n",
        "  #This function is for moving all 100,000 files into 10 separate folders, onee at a time.\n",
        "  os.mkdir(\"/content/gdrive/My Drive/APS360 Project/Data/Files 9\")\n",
        "  i = 0\n",
        "  for file in os.listdir(\"/content/gdrive/My Drive/APS360 Project/Data/Generated Dataset/\"):\n",
        "    if i > 9307:\n",
        "      break\n",
        "    if i%500 == 0:\n",
        "      currentDT = datetime.datetime.now()\n",
        "      print(i, \" Time -- \", currentDT.hour, \":\", currentDT.minute)\n",
        "    oldPath = \"/content/gdrive/My Drive/APS360 Project/Data/Generated Dataset/\" + file\n",
        "    newPath = \"/content/gdrive/My Drive/APS360 Project/Data/Files 9\"\n",
        "    shutil.move(oldPath, newPath)\n",
        "    i+=1\n",
        "\n",
        "def nameOverlayFile(path1, path2):    \n",
        "    #This function takes two file paths and outputs the name of their overlay\n",
        "    dialect1, person1, sentence1 = getFileInfo(path1)\n",
        "    dialect2, person2, sentence2 = getFileInfo(path2)\n",
        "    new_file_name = dialect1 + \"_\" + person1 + \"_\" + sentence1 + \"_\" + dialect2 + \"_\" + person2 + \"_\" + sentence2\n",
        "    return new_file_name\n",
        "    \n",
        "def getFileInfo(path):\n",
        "    #This function take a path of a file and returns its details by splitting the file's name\n",
        "    tokens = path.split(\"/\")\n",
        "    dialect = tokens[-3]\n",
        "    person = tokens[-2]\n",
        "    sentence = tokens[-1].split(\".\")[0]\n",
        "    return dialect, person, sentence\n",
        "  \n",
        "def getOverlayFileInfo(path):\n",
        "    #This function takes the path of an overlay file and returns its details by splitting its name\n",
        "    tokens = path.split(\"_\")\n",
        "    # return strings in the order of: dialect1, person1, sentence1,dialect2, person2, sentence2\n",
        "    return tokens[-6], tokens[-5], tokens[-4], tokens[-3], tokens[-2], tokens[-1].split(\".\")[0]\n",
        "    \n",
        "def getPathsFromOverlayFile(oFileName, directory=\"/content/gdrive/My Drive/APS360 Project/Data/data/lisa/data/timit/raw/TIMIT/TRAIN/\"):\n",
        "    #This function takes in an overlay file's name and returns the paths of the two files it was generated from\n",
        "    #oFileName can be either the name or path (with \"/\" at the end) of the overlay file\n",
        "    dialect1, person1, sentence1, dialect2, person2, sentence2 = getOverlayFileInfo(oFileName)\n",
        "    path1 = directory + dialect1 + \"/\" + person1 + \"/\" + sentence1 + \".WAV\"\n",
        "    path2 = directory + dialect2 + \"/\" + person2 + \"/\" + sentence2 + \".WAV\"\n",
        "    return path1, path2\n",
        "    \n",
        "def getSpeakers(oFileName):\n",
        "    #This function takes in an overlay file's name and returns the two people's IDs that were used to generate it\n",
        "    tokens = oFileName.split(\"_\")\n",
        "    person1 = tokens[1]\n",
        "    person2 = tokens[4]\n",
        "    return person1, person2\n",
        "\n",
        "\n",
        "def createDictionary(directory):\n",
        "    #This function takes in a path to overlaid files and returns a dictionary with \n",
        "    #people as keys and every overlay file they were part of as their values \n",
        "    dictionary = {}\n",
        "    \n",
        "    for filename in os.listdir(directory):\n",
        "        person1, person2 = getSpeakers(filename)\n",
        "        path1, path2 = getPathsFromOverlayFile(filename)\n",
        "        if (person1 not in dictionary):\n",
        "            dictionary[person1] = []\n",
        "            dictionary[person1].append(path2)\n",
        "        else:\n",
        "            dictionary[person1].append(path2)\n",
        "        if (person2 not in dictionary):\n",
        "            dictionary[person2] = []\n",
        "            dictionary[person2].append(path1)\n",
        "        else:\n",
        "            dictionary[person2].append(path1)\n",
        "    return dictionary\n",
        "    \n",
        "#Overlay Generation\n",
        "\n",
        "#check short vs long wav files\n",
        "#overlay short on long \n",
        "#Make File Name\n",
        "#export it to a folder using file name\n",
        "#make dictionary\n",
        "#export dictionary to file\n",
        "\n",
        "def GenerateOverlay(wav1_Path, wav2_Path):\n",
        "  #This function takes two paths to wav files and generates and exports an overlay file\n",
        "  sound1 = AudioSegment.from_file(wav1_Path)\n",
        "  sound2 = AudioSegment.from_file(wav2_Path)\n",
        "  if len(sound1) > len(sound2):\n",
        "    overlaied = sound1.overlay(sound2)\n",
        "  else: \n",
        "    overlaied = sound2.overlay(sound1)\n",
        "    \n",
        "  file_handle = overlaied.export(\"/content/gdrive/My Drive/APS360 Project/Data/Generated Dataset/\" + nameOverlayFile(wav1_Path, wav2_Path), format=\"wav\")\n",
        "  return \n",
        "\n",
        "def MainGenerateData(main_path):\n",
        "  #This function generated all of our data. It was called twice, once for the training set and once for the testing set\n",
        "  people_paths = []\n",
        "  for DRx in os.listdir(train_path):                        #loop over everyone in the set\n",
        "    for person in os.listdir(train_path + DRx):             \n",
        "      people_paths.append(train_path + DRx + '/' + person)  #append every person's path to a list\n",
        "  print(\"All people paths collected...\")\n",
        "\n",
        "  person_to_wavs = dict()                             #dictionary with people's paths as keys, and wav file as values\n",
        "  for person_path in people_paths:                    #for every person in the data\n",
        "    person_wavs = []                                  #empty list for this person's WAV files\n",
        "    for file in os.listdir(person_path):              #for all this peron's files\n",
        "      if file.endswith(\"WAV\"):                        #find all the WAV files\n",
        "        person_wavs.append(person_path + '/' + file)  #add all the WAV file paths to a list\n",
        "    person_to_wavs[person_path] = person_wavs         #{ person's path:[list of their WAV paths] }\n",
        "  print(\"Person to WAVs dictionary complete...\")\n",
        "  \n",
        "  total_files_generated = 0\n",
        "  for i in range(0, len(people_paths)):                              #for every person\n",
        "    files_generated_for_this_person = 0\n",
        "    random_wav_i = random.choice(person_to_wavs[people_paths[i]])    #randomly select one of their wav files\n",
        "    for j in range(i+1, len(people_paths)):                          #for the remaining people\n",
        "      random_wav_j = random.choice(person_to_wavs[people_paths[j]])  #randomly select one of their wav files\n",
        "      GenerateOverlay(random_wav_i, random_wav_j)                    #Overlay one wav on the other\n",
        "      files_generated_for_this_person += 1\n",
        "    total_files_generated += files_generated_for_this_person\n",
        "    print(\"Completed person \", i+1, \" | Files Generated: \", files_generated_for_this_person, \" | Total Files: \", total_files_generated)"
      ],
      "execution_count": 0,
      "outputs": []
    },
    {
      "cell_type": "code",
      "metadata": {
        "id": "JJKCNtBVgmDS",
        "colab_type": "code",
        "outputId": "2673b602-12fc-4feb-a400-1caa59f90cc0",
        "colab": {
          "base_uri": "https://localhost:8080/",
          "height": 164
        }
      },
      "source": [
        "len(os.listdir(\"/content/gdrive/My Drive/APS360 Project/Data/Files 1\"))"
      ],
      "execution_count": 0,
      "outputs": [
        {
          "output_type": "error",
          "ename": "FileNotFoundError",
          "evalue": "ignored",
          "traceback": [
            "\u001b[0;31m---------------------------------------------------------------------------\u001b[0m",
            "\u001b[0;31mFileNotFoundError\u001b[0m                         Traceback (most recent call last)",
            "\u001b[0;32m<ipython-input-7-757332ab8b21>\u001b[0m in \u001b[0;36m<module>\u001b[0;34m()\u001b[0m\n\u001b[0;32m----> 1\u001b[0;31m \u001b[0mlen\u001b[0m\u001b[0;34m(\u001b[0m\u001b[0mos\u001b[0m\u001b[0;34m.\u001b[0m\u001b[0mlistdir\u001b[0m\u001b[0;34m(\u001b[0m\u001b[0;34m\"/content/gdrive/My Drive/APS360 Project/Data/Files 1\"\u001b[0m\u001b[0;34m)\u001b[0m\u001b[0;34m)\u001b[0m\u001b[0;34m\u001b[0m\u001b[0;34m\u001b[0m\u001b[0m\n\u001b[0m",
            "\u001b[0;31mFileNotFoundError\u001b[0m: [Errno 2] No such file or directory: '/content/gdrive/My Drive/APS360 Project/Data/Files 1'"
          ]
        }
      ]
    },
    {
      "cell_type": "code",
      "metadata": {
        "id": "hwmhu3SiOl_3",
        "colab_type": "code",
        "colab": {}
      },
      "source": [
        "class DataFile(Dataset):\n",
        "  def __init__(self, data_folder, transform=None): #dataset = list of paths for overlaid\n",
        "    self.__xs = [] # list of paths from content to .wav for overlaid\n",
        "    self.__ys = [] # list of tuples for the ground truths for each overlaid\n",
        "    for file in os.listdir(data_folder):\n",
        "        self.__xs.append(data_folder + \"/\" + file)\n",
        "        path1, path2 = getPathsFromOverlayFile(file, directory=\"/content/gdrive/My Drive/APS360 Project/Data/data/lisa/data/timit/raw/TIMIT/TRAIN/\")\n",
        "        self.__ys.append((path1, path2))\n",
        "\n",
        "  def __getitem__(self, index):\n",
        "    output1 = self.__xs[index]\n",
        "    truth = self.__ys[index]\n",
        "    return output1, truth\n",
        "\n",
        "  def __len__(self):\n",
        "    return len(self.__xs)\n",
        "\n",
        "\n",
        "# data_set = DataFile(\"/content/gdrive/My Drive/APS360 Project/Data/Files 1\")\n",
        "# train_loader = DataLoader(data_set, batch_size=1, shuffle=False, num_workers=0)"
      ],
      "execution_count": 0,
      "outputs": []
    },
    {
      "cell_type": "code",
      "metadata": {
        "id": "3Kid24m-JSK_",
        "colab_type": "code",
        "colab": {}
      },
      "source": [
        "def matchSize(a, b):\n",
        "  result = torch.zeros(b.shape)\n",
        "  result[:a.shape[0],:a.shape[1],:a.shape[2]] = a\n",
        "  return result\n",
        "\n",
        "def matchAll(a, b, c,d):\n",
        "  lens = np.array([a.shape[2], b.shape[2], c.shape[2], d.shape[2]])\n",
        "  largest_index = lens.argmax()\n",
        "  all_inputs = [a,b,c,d]\n",
        "  a = matchSize(a, all_inputs[largest_index])\n",
        "  b = matchSize(b, all_inputs[largest_index])\n",
        "  c = matchSize(c, all_inputs[largest_index])\n",
        "  d = matchSize(d, all_inputs[largest_index])\n",
        "  return a,b,c,d"
      ],
      "execution_count": 0,
      "outputs": []
    },
    {
      "cell_type": "code",
      "metadata": {
        "id": "4WoQtfAM-mpW",
        "colab_type": "code",
        "outputId": "6ae40d73-9c0e-45e8-fcec-4ac462f78e71",
        "colab": {
          "base_uri": "https://localhost:8080/",
          "height": 354
        }
      },
      "source": [
        "#This code loades the overfitting data and prints out the length of the dataset (1 since we only have one file)\n",
        "\n",
        "data_set1 = DataFile(\"/content/gdrive/My Drive/APS360 Project/Data/Files Overfit/One File\")\n",
        "train_loader = DataLoader(data_set1, batch_size=1, shuffle=False, num_workers=0)\n",
        "len(data_set1)"
      ],
      "execution_count": 0,
      "outputs": [
        {
          "output_type": "error",
          "ename": "OSError",
          "evalue": "ignored",
          "traceback": [
            "\u001b[0;31m---------------------------------------------------------------------------\u001b[0m",
            "\u001b[0;31mOSError\u001b[0m                                   Traceback (most recent call last)",
            "\u001b[0;32m<ipython-input-7-86f2e42eb4be>\u001b[0m in \u001b[0;36m<module>\u001b[0;34m()\u001b[0m\n\u001b[1;32m      1\u001b[0m \u001b[0;34m\u001b[0m\u001b[0m\n\u001b[0;32m----> 2\u001b[0;31m \u001b[0mdata_set1\u001b[0m \u001b[0;34m=\u001b[0m \u001b[0mDataFile\u001b[0m\u001b[0;34m(\u001b[0m\u001b[0;34m\"/content/gdrive/My Drive/APS360 Project/Data/Files Overfit/One File\"\u001b[0m\u001b[0;34m)\u001b[0m\u001b[0;34m\u001b[0m\u001b[0;34m\u001b[0m\u001b[0m\n\u001b[0m\u001b[1;32m      3\u001b[0m \u001b[0mtrain_loader\u001b[0m \u001b[0;34m=\u001b[0m \u001b[0mDataLoader\u001b[0m\u001b[0;34m(\u001b[0m\u001b[0mdata_set1\u001b[0m\u001b[0;34m,\u001b[0m \u001b[0mbatch_size\u001b[0m\u001b[0;34m=\u001b[0m\u001b[0;36m1\u001b[0m\u001b[0;34m,\u001b[0m \u001b[0mshuffle\u001b[0m\u001b[0;34m=\u001b[0m\u001b[0;32mFalse\u001b[0m\u001b[0;34m,\u001b[0m \u001b[0mnum_workers\u001b[0m\u001b[0;34m=\u001b[0m\u001b[0;36m0\u001b[0m\u001b[0;34m)\u001b[0m\u001b[0;34m\u001b[0m\u001b[0;34m\u001b[0m\u001b[0m\n\u001b[1;32m      4\u001b[0m \u001b[0mlen\u001b[0m\u001b[0;34m(\u001b[0m\u001b[0mdata_set1\u001b[0m\u001b[0;34m)\u001b[0m\u001b[0;34m\u001b[0m\u001b[0;34m\u001b[0m\u001b[0m\n",
            "\u001b[0;32m<ipython-input-5-1933cff1456b>\u001b[0m in \u001b[0;36m__init__\u001b[0;34m(self, data_folder, transform)\u001b[0m\n\u001b[1;32m      3\u001b[0m     \u001b[0mself\u001b[0m\u001b[0;34m.\u001b[0m\u001b[0m__xs\u001b[0m \u001b[0;34m=\u001b[0m \u001b[0;34m[\u001b[0m\u001b[0;34m]\u001b[0m \u001b[0;31m# list of paths from content to .wav for overlaid\u001b[0m\u001b[0;34m\u001b[0m\u001b[0;34m\u001b[0m\u001b[0m\n\u001b[1;32m      4\u001b[0m     \u001b[0mself\u001b[0m\u001b[0;34m.\u001b[0m\u001b[0m__ys\u001b[0m \u001b[0;34m=\u001b[0m \u001b[0;34m[\u001b[0m\u001b[0;34m]\u001b[0m \u001b[0;31m# list of tuples for the ground truths for each overlaid\u001b[0m\u001b[0;34m\u001b[0m\u001b[0;34m\u001b[0m\u001b[0m\n\u001b[0;32m----> 5\u001b[0;31m     \u001b[0;32mfor\u001b[0m \u001b[0mfile\u001b[0m \u001b[0;32min\u001b[0m \u001b[0mos\u001b[0m\u001b[0;34m.\u001b[0m\u001b[0mlistdir\u001b[0m\u001b[0;34m(\u001b[0m\u001b[0mdata_folder\u001b[0m\u001b[0;34m)\u001b[0m\u001b[0;34m:\u001b[0m\u001b[0;34m\u001b[0m\u001b[0;34m\u001b[0m\u001b[0m\n\u001b[0m\u001b[1;32m      6\u001b[0m         \u001b[0mself\u001b[0m\u001b[0;34m.\u001b[0m\u001b[0m__xs\u001b[0m\u001b[0;34m.\u001b[0m\u001b[0mappend\u001b[0m\u001b[0;34m(\u001b[0m\u001b[0mdata_folder\u001b[0m \u001b[0;34m+\u001b[0m \u001b[0;34m\"/\"\u001b[0m \u001b[0;34m+\u001b[0m \u001b[0mfile\u001b[0m\u001b[0;34m)\u001b[0m\u001b[0;34m\u001b[0m\u001b[0;34m\u001b[0m\u001b[0m\n\u001b[1;32m      7\u001b[0m         \u001b[0mpath1\u001b[0m\u001b[0;34m,\u001b[0m \u001b[0mpath2\u001b[0m \u001b[0;34m=\u001b[0m \u001b[0mgetPathsFromOverlayFile\u001b[0m\u001b[0;34m(\u001b[0m\u001b[0mfile\u001b[0m\u001b[0;34m,\u001b[0m \u001b[0mdirectory\u001b[0m\u001b[0;34m=\u001b[0m\u001b[0;34m\"/content/gdrive/My Drive/APS360 Project/Data/data/lisa/data/timit/raw/TIMIT/TRAIN/\"\u001b[0m\u001b[0;34m)\u001b[0m\u001b[0;34m\u001b[0m\u001b[0;34m\u001b[0m\u001b[0m\n",
            "\u001b[0;31mOSError\u001b[0m: [Errno 5] Input/output error: '/content/gdrive/My Drive/APS360 Project/Data/Files Overfit/One File'"
          ]
        }
      ]
    },
    {
      "cell_type": "code",
      "metadata": {
        "id": "jjkE93m15qx3",
        "colab_type": "code",
        "colab": {}
      },
      "source": [
        "class KhaledNet1(nn.Module):\n",
        "  def __init__(self):\n",
        "    super(KhaledNet1, self).__init__()\n",
        "    self.name = \"khalednet1\"\n",
        "    self.conv1 = nn.Conv2d(1, 50, 3, padding = 1) # 1 in-channel, 5 out-channels (to learn more), kernel size 3, padding 1 to keep the same size\n",
        "    self.conv2 = nn.Conv2d(50, 30, 3, padding = 1)\n",
        "    self.conv3 = nn.Conv2d(30, 10, 3, padding = 1)\n",
        "    self.conv4 = nn.Conv2d(10, 2, 3, padding = 1) # 5 in-channel, 2 out-channels (one channel per mask?), kernel size 3, padding 1 to keep the same size\n",
        "  \n",
        "  def forward(self, x):\n",
        "    x = F.relu(self.conv1(x))         # using reLU as my nonlinearity\n",
        "    x = F.relu(self.conv2(x))\n",
        "    x = F.relu(self.conv3(x))\n",
        "    output = F.relu(self.conv4(x))\n",
        "    return output\n",
        "\n",
        "def train(model, train_loader, valid_loader, num_epochs=5, learning_rate=1e-4):\n",
        "  criterion = nn.MSELoss()                                                  #I was using Chamfer Loss, but I can't figure out how to import it ~ using MSELoss instead for noww\n",
        "  optimizer = torch.optim.Adam(model.parameters(), lr=learning_rate)             #using Adam\n",
        "  \n",
        "  for epoch in range(num_epochs): \n",
        "    for batchData, (truth1, truth2) in train_loader:         #Loop over the batch\n",
        "      batch = 0      #initialize this batch's loss\n",
        "      for i in range(len(batchData)):                                               #for very file path in the batch\n",
        "        inputs = signal.stft(SPHFile(batchData[i]).content)[2].astype('int64')          #import and convert the overlay file to an STFT\n",
        "        truths_stft_1 = signal.stft(SPHFile(truth1[i]).content)[2].astype('int64')  #import and convert the first ground truth file to an STFT\n",
        "        truths_stft_2 = signal.stft(SPHFile(truth2[i]).content)[2].astype('int64')  #import and convert the second ground truth file to an STFT\n",
        "        \n",
        "      inputs = torch.tensor(inputs).unsqueeze(0).unsqueeze(0).float()\n",
        "      truths_stft_1 = torch.tensor(truths_stft_1).float()\n",
        "      truths_stft_2 = torch.tensor(truths_stft_2).float()\n",
        "      \n",
        "      pred = model(inputs)\n",
        "      \n",
        "      pred1 = pred[0,0,:,:]\n",
        "      pred2 = pred[0,1,:,:]\n",
        "      \n",
        "      pred1, pred2, truths_stft_1, truths_stft_2 = matchAll(pred1, pred2, truths_stft_1, truths_stft_2)\n",
        "      \n",
        "#       print(truths_stft_1.shape)\n",
        "#       print(truths_stft_2.shape)\n",
        "#       print(pred1.shape)\n",
        "#       print(pred2.shape)\n",
        "      \n",
        "      loss1 = criterion(pred1, truths_stft_1)\n",
        "      loss2 = criterion(pred2, truths_stft_2)\n",
        "      \n",
        "      loss3 = criterion(pred1, truths_stft_2)\n",
        "      loss4 = criterion(pred2, truths_stft_1)\n",
        "      \n",
        "      loss_loss = min(loss1+loss2 , loss3+loss4)\n",
        "      \n",
        "      optimizer.zero_grad()\n",
        "      loss_loss.backward()\n",
        "      optimizer.step()\n",
        "    print(loss_loss)"
      ],
      "execution_count": 0,
      "outputs": []
    },
    {
      "cell_type": "code",
      "metadata": {
        "id": "VrWsTH5L-brO",
        "colab_type": "code",
        "colab": {}
      },
      "source": [
        "from scipy import signal\n",
        "from sphfile import SPHFile\n",
        "\n",
        "class KhaledNet2(nn.Module):\n",
        "  def __init__(self):\n",
        "    super(KhaledNet2, self).__init__()\n",
        "    self.name = \"khalednet2\"\n",
        "    self.conv1 = nn.Conv2d(2, 50, 3, padding = 1) \n",
        "    self.conv2 = nn.Conv2d(50, 30, 3, padding = 1)\n",
        "    self.conv3 = nn.Conv2d(30, 10, 3, padding = 1)\n",
        "    self.conv4 = nn.Conv2d(10, 4, 3, padding = 1) \n",
        "  \n",
        "  def forward(self, x):\n",
        "    x = F.relu(self.conv1(x))         # using reLU as my nonlinearity\n",
        "    x = F.relu(self.conv2(x))\n",
        "    x = F.relu(self.conv3(x))\n",
        "    output = F.relu(self.conv4(x))\n",
        "    return output\n",
        "  \n",
        "def train(model, train_loader, valid_loader, num_epochs=5, learning_rate=1e-4):\n",
        "  criterion = nn.MSELoss()                                                  #I was using Chamfer Loss, but I can't figure out how to import it ~ using MSELoss instead for noww\n",
        "  optimizer = torch.optim.Adam(model.parameters(), lr=learning_rate)             #using Adam\n",
        "  \n",
        "  for epoch in range(num_epochs): \n",
        "    for batchData, (truth1, truth2) in train_loader:         #Loop over the batch\n",
        "      batch = 0      #initialize this batch's loss\n",
        "      for i in range(len(batchData)):                                               #for very file path in the batch\n",
        "        inputs = signal.stft(SPHFile(batchData[i]).content)[2]\n",
        "        truths_stft_1 = signal.stft(SPHFile(truth1[i]).content)[2]\n",
        "        truths_stft_2 = signal.stft(SPHFile(truth2[i]).content)[2]\n",
        "        \n",
        "      inputs = torch.tensor([inputs.real, inputs.imag]).unsqueeze(0)\n",
        "      truths1 = torch.tensor([truths_stft_1.real, truths_stft_1.imag])\n",
        "      truths2 = torch.tensor([truths_stft_2.real, truths_stft_2.imag])\n",
        "      \n",
        "      pred = model(inputs)\n",
        "      \n",
        "      pred1 = pred[0,:2,:,:]\n",
        "      pred2 = pred[0,2:,:,:]\n",
        "      \n",
        "      pred1, pred2, truths1, truths2 = matchAll(pred1, pred2, truths1, truths2)\n",
        "      \n",
        "#       print(truths_stft_1.shape)\n",
        "#       print(truths_stft_2.shape)\n",
        "#       print(pred1.shape)\n",
        "#       print(pred2.shape)\n",
        "      \n",
        "      loss1 = criterion(pred1, truths1)\n",
        "      loss2 = criterion(pred2, truths2)\n",
        "      \n",
        "      loss3 = criterion(pred1, truths2)\n",
        "      loss4 = criterion(pred2, truths1)\n",
        "      \n",
        "      loss_loss = min(loss1+loss2 , loss3+loss4)\n",
        "      \n",
        "      optimizer.zero_grad()\n",
        "      loss_loss.backward()\n",
        "      optimizer.step()\n",
        "    print(loss_loss)\n",
        "    \n",
        "model = KhaledNet2()"
      ],
      "execution_count": 0,
      "outputs": []
    },
    {
      "cell_type": "code",
      "metadata": {
        "id": "dCisTZ5pakpR",
        "colab_type": "code",
        "colab": {}
      },
      "source": [
        "train(model, train_loader, train_loader, num_epochs = 100, learning_rate=1e-4)"
      ],
      "execution_count": 0,
      "outputs": []
    },
    {
      "cell_type": "code",
      "metadata": {
        "id": "CycaAGF2U2be",
        "colab_type": "code",
        "colab": {}
      },
      "source": [
        "from scipy import signal\n",
        "from sphfile import SPHFile\n",
        "\n",
        "class KhaledNet3(nn.Module):\n",
        "  def __init__(self):\n",
        "    super(KhaledNet3, self).__init__()\n",
        "    self.name = \"khalednet3\"\n",
        "    self.conv1 = nn.Conv2d(2, 50, 3, padding = 1) \n",
        "    self.conv2 = nn.Conv2d(50, 30, 3, padding = 1)\n",
        "    self.conv3 = nn.Conv2d(30, 10, 3, padding = 1)\n",
        "    self.conv4 = nn.Conv2d(10, 4, 3, padding = 1) \n",
        "  \n",
        "  def forward(self, x):\n",
        "    x = F.relu(self.conv1(x))         # using reLU as my nonlinearity\n",
        "    x = F.relu(self.conv2(x))\n",
        "    x = F.relu(self.conv3(x))\n",
        "    output = F.relu(self.conv4(x))\n",
        "    return output\n",
        "  \n",
        "def train(model, train_loader, valid_loader, num_epochs=5, learning_rate=1e-4):\n",
        "  criterion = nn.MSELoss()                                                  #I was using Chamfer Loss, but I can't figure out how to import it ~ using MSELoss instead for noww\n",
        "  optimizer = torch.optim.Adam(model.parameters(), lr=learning_rate)             #using Adam\n",
        "  \n",
        "  for epoch in range(num_epochs): \n",
        "    for batchData, (truth1, truth2) in train_loader:         #Loop over the batch\n",
        "      batch = 0      #initialize this batch's loss\n",
        "      for i in range(len(batchData)):                                               #for very file path in the batch\n",
        "        inputs = signal.stft(SPHFile(batchData[i]).content)[2]\n",
        "        truths_stft_1 = signal.stft(SPHFile(truth1[i]).content)[2]\n",
        "        truths_stft_2 = signal.stft(SPHFile(truth2[i]).content)[2]\n",
        "\n",
        "      inputs = torch.tensor([inputs.real, inputs.imag]).unsqueeze(0)\n",
        "      truths1 = torch.tensor([truths_stft_1.real, truths_stft_1.imag], dtype=torch.float64)\n",
        "      truths2 = torch.tensor([truths_stft_2.real, truths_stft_2.imag], dtype=torch.float64)\n",
        "      \n",
        "      pred = model(inputs)\n",
        "      \n",
        "      pred1 = pred[0,:2,:,:]\n",
        "      pred2 = pred[0,2:,:,:]\n",
        "      \n",
        "      pred1, pred2, truths1, truths2 = matchAll(pred1, pred2, truths1, truths2)\n",
        "      \n",
        "#       print(truths_stft_1.shape)\n",
        "#       print(truths_stft_2.shape)\n",
        "#       print(pred1.shape)\n",
        "#       print(pred2.shape)\n",
        "      \n",
        "      loss1 = criterion(pred1, truths1)\n",
        "      loss2 = criterion(pred2, truths2)\n",
        "      \n",
        "#       loss3 = criterion(pred1, truths2)\n",
        "#       loss4 = criterion(pred2, truths1)\n",
        "      \n",
        "#       loss_loss = min(loss1+loss2 , loss3+loss4)\n",
        "      loss_loss = loss1 + loss2\n",
        "      optimizer.zero_grad()\n",
        "      loss_loss.backward()\n",
        "      optimizer.step()\n",
        "    if epoch % 10 ==0:\n",
        "      print(loss_loss)\n",
        "    \n",
        "model = KhaledNet3()"
      ],
      "execution_count": 0,
      "outputs": []
    },
    {
      "cell_type": "code",
      "metadata": {
        "id": "TmAAYmXMo8va",
        "colab_type": "code",
        "colab": {}
      },
      "source": [
        "train(model, train_loader, train_loader, num_epochs = 10000, learning_rate=5e-4)"
      ],
      "execution_count": 0,
      "outputs": []
    },
    {
      "cell_type": "code",
      "metadata": {
        "colab_type": "code",
        "id": "04MmvDzgXnyN",
        "colab": {}
      },
      "source": [
        "!mv pytorch-wavenet/ pytorch_wavenet   #renames pytorch-wavenet to pytorch_wavenet cuz dashes/hyphens (the \"-\" ) are forbidden in python\n",
        "!ls  pytorch_wavenet    #show me everythig in this folder ~~ this line is unnecessary and was just for me\n",
        "from pytorch_wavenet import *  #import EVERYTHING"
      ],
      "execution_count": 0,
      "outputs": []
    },
    {
      "cell_type": "code",
      "metadata": {
        "id": "AQZuBXlFtjMX",
        "colab_type": "code",
        "colab": {}
      },
      "source": [
        "def matchSize(a, b):\n",
        "  result = torch.zeros(b.shape)\n",
        "  result[:a.shape[0]] = a\n",
        "  return result\n",
        "\n",
        "def matchAll(a, b, c, d, e):\n",
        "  lens = np.array([a.shape[0], b.shape[0], c.shape[0], d.shape[0], e.shape[0]])\n",
        "  largest_index = lens.argmax()\n",
        "  all_inputs = [a,b,c,d,e]\n",
        "  a = matchSize(a, all_inputs[largest_index])\n",
        "  b = matchSize(b, all_inputs[largest_index])\n",
        "  c = matchSize(c, all_inputs[largest_index])\n",
        "  d = matchSize(d, all_inputs[largest_index])\n",
        "  e = matchSize(e, all_inputs[largest_index])\n",
        "\n",
        "  return a,b,c,d, e\n",
        "\n",
        "class KhaledNet4(nn.Module):\n",
        "  def __init__(self):\n",
        "    super(KhaledNet4, self).__init__()\n",
        "    self.name = \"khalednet4\"\n",
        "    self.conv1 = nn.Conv1d(1, 4, 100, padding = 10) \n",
        "    self.conv2 = nn.Conv1d(4, 2, 100, padding = 10)\n",
        "  \n",
        "  def forward(self, x):\n",
        "    x = F.relu(self.conv1(x))\n",
        "    output = self.conv2(x)\n",
        "    return output\n",
        "\n",
        "  \n",
        "def train(model, train_loader, valid_loader, num_epochs=5, learning_rate=1e-4):\n",
        "  criterion = nn.MSELoss()\n",
        "  optimizer = torch.optim.Adam(model.parameters(), lr=learning_rate)        \n",
        "  \n",
        "  for epoch in range(num_epochs): \n",
        "    for batchData, (truth1, truth2) in train_loader:       \n",
        "      batch = 0    \n",
        "      for i in range(len(batchData)):                \n",
        "        inputs = SPHFile(batchData[i]).content\n",
        "        truths1 = SPHFile(truth1[i]).content\n",
        "        truths2 = SPHFile(truth2[i]).content\n",
        "        \n",
        "      t_inputs = torch.tensor(inputs.astype(\"int16\"))\n",
        "      t_truths1 = torch.tensor(truths1.astype(\"int16\"))\n",
        "      t_truths2 = torch.tensor(truths2.astype(\"int16\"))\n",
        "      \n",
        "      pred = model(t_inputs.unsqueeze(0).unsqueeze(0).float())\n",
        "      \n",
        "      pred1 = pred[0,0,:]\n",
        "      pred2 = pred[0,1,:]\n",
        "\n",
        "      \n",
        "      pred1, pred2, t_truths1, t_truths2, t_inputs = matchAll(pred1, pred2, t_truths1, t_truths2, t_inputs)\n",
        "\n",
        "      loss1 = criterion(pred1, t_truths1)\n",
        "      loss2 = criterion(pred2, t_truths2)\n",
        "      \n",
        "      loss3 = criterion(pred1, t_truths2)\n",
        "      loss4 = criterion(pred2, t_truths1)\n",
        "\n",
        "#       loss1 = torch.norm(pred1 - t_truths1)\n",
        "#       loss2 = torch.norm(pred2 - t_truths2)\n",
        "      \n",
        "#       loss3 = torch.norm(pred1 - t_truths2)\n",
        "#       loss4 = torch.norm(pred2 - t_truths1)\n",
        "      \n",
        "      min_loss = min(loss1+loss2 , loss3+loss4)\n",
        "      recon_loss = criterion(t_inputs, (pred1 + pred2))\n",
        "      \n",
        "      total_loss = min_loss + recon_loss\n",
        "      \n",
        "      optimizer.zero_grad()\n",
        "      total_loss.backward()\n",
        "      optimizer.step()\n",
        "    if epoch % 10 ==0:\n",
        "      print(total_loss)\n"
      ],
      "execution_count": 0,
      "outputs": []
    },
    {
      "cell_type": "code",
      "metadata": {
        "id": "c8nRsYVjf91G",
        "colab_type": "code",
        "colab": {}
      },
      "source": [
        "class KhaledNetFC(nn.Module):\n",
        "  def __init__(self):\n",
        "    super(KhaledNetFC, self).__init__()\n",
        "    self.name = \"KhaledNetFC\"\n",
        "    self.fc1 = nn.Linear(100, 200) \n",
        "  \n",
        "  def forward(self, x):\n",
        "    output = self.fc1(x)\n",
        "    return output\n",
        "  \n",
        "def train(model, train_loader, valid_loader, num_epochs=5, learning_rate=1e-4):\n",
        "  criterion = nn.MSELoss()\n",
        "  optimizer = torch.optim.Adam(model.parameters(), lr=learning_rate)        \n",
        "  \n",
        "  for epoch in range(num_epochs): \n",
        "    for batchData, (truth1, truth2) in train_loader:       \n",
        "      batch = 0    \n",
        "      for i in range(len(batchData)):                \n",
        "        inputs = SPHFile(batchData[i]).content[:100]\n",
        "        truths1 = SPHFile(truth1[i]).content[:100]\n",
        "        truths2 = SPHFile(truth2[i]).content[:100]\n",
        "      \n",
        "      t_inputs = torch.tensor(inputs.astype(\"int16\"))\n",
        "      t_truths1 = torch.tensor(truths1.astype(\"int16\"))\n",
        "      t_truths2 = torch.tensor(truths2.astype(\"int16\"))\n",
        "      \n",
        "      pred = model(t_inputs.float())\n",
        "      \n",
        "      pred1 = pred[:100]\n",
        "      pred2 = pred[100:]\n",
        "\n",
        "      \n",
        "#       pred1, pred2, t_truths1, t_truths2, t_inputs = matchAll(pred1, pred2, t_truths1, t_truths2, t_inputs)\n",
        "\n",
        "      loss1 = criterion(pred1.float(), t_truths1.float())\n",
        "      loss2 = criterion(pred2.float(), t_truths2.float())\n",
        "      \n",
        "      loss3 = criterion(pred1.float(), t_truths2.float())\n",
        "      loss4 = criterion(pred2.float(), t_truths1.float())\n",
        "\n",
        "#       loss1 = torch.norm(pred1 - t_truths1)\n",
        "#       loss2 = torch.norm(pred2 - t_truths2)\n",
        "      \n",
        "#       loss3 = torch.norm(pred1 - t_truths2)\n",
        "#       loss4 = torch.norm(pred2 - t_truths1)\n",
        "      \n",
        "      min_loss = min(loss1+loss3 , loss2+loss4)\n",
        "      recon_loss = criterion(t_inputs.float(), (pred1 + pred2).float())\n",
        "      total_loss = min_loss + recon_loss\n",
        "      \n",
        "      optimizer.zero_grad()\n",
        "      total_loss.backward()\n",
        "      optimizer.step()\n",
        "    if epoch % 100 ==0:\n",
        "#       print(\"MIN of both: \", min_loss, \"reconstruction: \", recon_loss)\n",
        "      print(loss1+loss2, loss3 + loss4)\n",
        "#       print(total_loss)"
      ],
      "execution_count": 0,
      "outputs": []
    },
    {
      "cell_type": "code",
      "metadata": {
        "id": "Yn1tSF0T1P9h",
        "colab_type": "code",
        "colab": {}
      },
      "source": [
        "train(m, train_loader, train_loader, num_epochs=10000, learning_rate=1e-5)"
      ],
      "execution_count": 0,
      "outputs": []
    },
    {
      "cell_type": "code",
      "metadata": {
        "id": "A0aQ3AbG4vmZ",
        "colab_type": "code",
        "colab": {}
      },
      "source": [
        "input_array = SPHFile(\"/content/gdrive/My Drive/APS360 Project/Data/Files Overfit/DR5_MPMB0_SX151_DR4_MJPM1_SX311\").content\n",
        "\n",
        "t_input = torch.tensor(input_array.astype(\"int16\"))\n",
        "t_CB = t_input.unsqueeze(0).unsqueeze(0).float()\n",
        "out = m(t_CB)\n",
        "sound1 = out[0,0,:]\n",
        "sound2 = out[0,1,:]\n",
        "\n",
        "sound1numpy = sound1.detach().numpy()\n",
        "sound2numpy = sound2.detach().numpy()\n",
        "\n",
        "wavio.write(\"/content/gdrive/My Drive/APS360 Project/Data/test9.wav\", sound1numpy.astype(\"int16\"), 16000)\n",
        "wavio.write(\"/content/gdrive/My Drive/APS360 Project/Data/test10.wav\", sound2numpy.astype(\"int16\"), 16000)"
      ],
      "execution_count": 0,
      "outputs": []
    },
    {
      "cell_type": "code",
      "metadata": {
        "id": "bnFduKFMX5bK",
        "colab_type": "code",
        "colab": {}
      },
      "source": [
        "#To import an SPH file\n",
        "sph = SPHFile(\"/content/gdrive/My Drive/APS360 Project/Data/Files Overfit/DR5_MPMB0_SX151_DR4_MJPM1_SX311\")\n",
        "\n",
        "#To get the sph file's content (a numpy array)\n",
        "sph_numpy = sph.content\n",
        "\n",
        "#To calculate a numpy array's STFT\n",
        "f, t, Zxx = signal.stft(sph_numpy)\n",
        "#where f is Array of sample frequencies.\n",
        "#where t is Array of segment times.\n",
        "#where Zxx is STFT of x.\n",
        "\n",
        "#To get the numpy array from an STFT\n",
        "t, x = signal.istft(Zxx)\n",
        "#where t is Array of output data times.\n",
        "#where x is iSTFT of Zxx."
      ],
      "execution_count": 0,
      "outputs": []
    },
    {
      "cell_type": "code",
      "metadata": {
        "id": "drflrE8l791C",
        "colab_type": "code",
        "colab": {}
      },
      "source": [
        "#This is where I tried the concept of using an RNN that takes in a fixed-size array of 46000 numbers (i wanted 48000, which was 3 seconds\n",
        "#(but the file i was working with was a little bit shorted so i went with 46000 just for testing) using a hidden size of 100, then connects\n",
        "#to a fully connected layer which takes the last hidden state and uses it to output 46000 numbers. The output of the FC is a mask that i \n",
        "#multiplied with the original overlay file to generate one of the speakers.\n",
        "\n",
        "#This worked FLAWLESSLY. I had a working proof of concept. I went to swim for an hour and came back to contine in the next big comment\n",
        "\n",
        "class KhaledNetRNN(nn.Module):\n",
        "  def __init__(self, input_size, hidden_size):\n",
        "    super(KhaledNetRNN, self).__init__()\n",
        "    self.hidden_size = hidden_size\n",
        "    self.name = \"KhaledNetRNN\"\n",
        "    self.rnn = nn.RNN(input_size, hidden_size, batch_first=True)\n",
        "    self.fc = nn.Linear(hidden_size, 46000)\n",
        "  \n",
        "  def forward(self, x):\n",
        "    h0 = torch.zeros(1, x.size(0), self.hidden_size)\n",
        "    output, _ = self.rnn(x, h0)\n",
        "    output = self.fc(output[:, -1, :])\n",
        "    return output\n",
        "\n",
        "def train(model, train_loader, valid_loader, num_epochs=5, learning_rate=1e-4):\n",
        "  criterion = nn.MSELoss()\n",
        "  optimizer = torch.optim.Adam(model.parameters(), lr=learning_rate)        \n",
        "  \n",
        "  for epoch in range(num_epochs): \n",
        "    for batchData, (truth1, truth2) in train_loader:       \n",
        "      batch = 0    \n",
        "      for i in range(len(batchData)):                \n",
        "        inputs = SPHFile(batchData[i]).content[:46000]\n",
        "        truths1 = SPHFile(truth1[i]).content[:46000]\n",
        "        truths2 = SPHFile(truth2[i]).content[:46000]\n",
        "      \n",
        "      t_inputs = torch.tensor(inputs.astype(\"int16\"))\n",
        "      t_truths1 = torch.tensor(truths1.astype(\"int16\"))\n",
        "      t_truths2 = torch.tensor(truths2.astype(\"int16\"))\n",
        "      \n",
        "      pred = model(t_inputs.float().unsqueeze(0).unsqueeze(0))\n",
        "\n",
        "      loss1 = criterion(pred.float() * t_inputs.float(), t_truths1.float())\n",
        "      \n",
        "#       min_loss = min(loss1+loss3 , loss2+loss4)\n",
        "#       recon_loss = criterion(t_inputs.float(), (pred1 + pred2).float())\n",
        "#       total_loss = min_loss + recon_loss\n",
        "      \n",
        "      optimizer.zero_grad()\n",
        "      loss1.backward()\n",
        "      optimizer.step()\n",
        "    if epoch % 10 ==0:\n",
        "      print(loss1)\n"
      ],
      "execution_count": 0,
      "outputs": []
    },
    {
      "cell_type": "code",
      "metadata": {
        "id": "FSg5QAT7_TqO",
        "colab_type": "code",
        "colab": {}
      },
      "source": [
        "model = KhaledNetRNN(46000,100)"
      ],
      "execution_count": 0,
      "outputs": []
    },
    {
      "cell_type": "code",
      "metadata": {
        "id": "IhewuOlK_lat",
        "colab_type": "code",
        "outputId": "ea986549-f8f3-4e87-8f65-719f91f381b3",
        "colab": {
          "base_uri": "https://localhost:8080/",
          "height": 241
        }
      },
      "source": [
        "train(model, overfit_loader, overfit_loader, num_epochs=100, learning_rate=5e-3)"
      ],
      "execution_count": 0,
      "outputs": [
        {
          "output_type": "stream",
          "text": [
            "/usr/local/lib/python3.6/dist-packages/torch/nn/modules/loss.py:443: UserWarning: Using a target size (torch.Size([46000])) that is different to the input size (torch.Size([1, 46000])). This will likely lead to incorrect results due to broadcasting. Please ensure they have the same size.\n",
            "  return F.mse_loss(input, target, reduction=self.reduction)\n"
          ],
          "name": "stderr"
        },
        {
          "output_type": "stream",
          "text": [
            "tensor(597388.5000, grad_fn=<MseLossBackward>)\n",
            "tensor(100112.4688, grad_fn=<MseLossBackward>)\n",
            "tensor(49069.6719, grad_fn=<MseLossBackward>)\n",
            "tensor(27902.4609, grad_fn=<MseLossBackward>)\n",
            "tensor(18649.9609, grad_fn=<MseLossBackward>)\n",
            "tensor(13870.1699, grad_fn=<MseLossBackward>)\n",
            "tensor(11171.2051, grad_fn=<MseLossBackward>)\n",
            "tensor(9435.5420, grad_fn=<MseLossBackward>)\n",
            "tensor(8199.4688, grad_fn=<MseLossBackward>)\n",
            "tensor(7267.2676, grad_fn=<MseLossBackward>)\n"
          ],
          "name": "stdout"
        }
      ]
    },
    {
      "cell_type": "code",
      "metadata": {
        "id": "4HNUkgOHEKU9",
        "colab_type": "code",
        "outputId": "d05ac0a7-0fa5-49b9-c15a-6a8159c542c9",
        "colab": {
          "base_uri": "https://localhost:8080/",
          "height": 34
        }
      },
      "source": [
        "for x in train_loader:\n",
        "  inputs = torch.tensor(SPHFile(x[0][0]).content[:46000].astype(\"int16\")).float().unsqueeze(0).unsqueeze(0) #get the overlay file\n",
        "\n",
        "out = model(inputs)  #run it through the model\n",
        "\n",
        "out.shape #debug"
      ],
      "execution_count": 0,
      "outputs": [
        {
          "output_type": "execute_result",
          "data": {
            "text/plain": [
              "torch.Size([1, 46000])"
            ]
          },
          "metadata": {
            "tags": []
          },
          "execution_count": 16
        }
      ]
    },
    {
      "cell_type": "code",
      "metadata": {
        "id": "SAsKxJYXE2Es",
        "colab_type": "code",
        "colab": {}
      },
      "source": [
        "export_this = inputs.squeeze() * out.squeeze()  #multiply the mask that came out of the model by the overlay file\n",
        "export_this = export_this.detach().numpy()   #ugh idk why i need to do this"
      ],
      "execution_count": 0,
      "outputs": []
    },
    {
      "cell_type": "code",
      "metadata": {
        "id": "2jzYQvoEFryf",
        "colab_type": "code",
        "colab": {}
      },
      "source": [
        "wavio.write(\"/content/gdrive/My Drive/APS360 Project/Data/newtest100.wav\", export_this.astype(\"int16\"), 16000) #omgomgomgitsoundsbeautiful"
      ],
      "execution_count": 0,
      "outputs": []
    },
    {
      "cell_type": "code",
      "metadata": {
        "id": "5cFjuhCmI6WK",
        "colab_type": "code",
        "outputId": "493cc462-aa43-4ffd-e2c9-a9c31bef5953",
        "colab": {
          "base_uri": "https://localhost:8080/",
          "height": 35
        }
      },
      "source": [
        "np.random.randint(-30000,30000, 46000)"
      ],
      "execution_count": 0,
      "outputs": [
        {
          "output_type": "execute_result",
          "data": {
            "text/plain": [
              "array([ 25177, -12586,  -2245, ..., -12400,  27598, -26684])"
            ]
          },
          "metadata": {
            "tags": []
          },
          "execution_count": 62
        }
      ]
    },
    {
      "cell_type": "code",
      "metadata": {
        "id": "ASKuaWksIPhC",
        "colab_type": "code",
        "colab": {}
      },
      "source": [
        "wavio.write(\"/content/gdrive/My Drive/APS360 Project/Data/noise.wav\", np.random.randint(-30000,30000, 46000).astype(\"int16\"), 16000) #omgomgomgitsoundsbeautiful"
      ],
      "execution_count": 0,
      "outputs": []
    },
    {
      "cell_type": "code",
      "metadata": {
        "id": "bJE8FcLNF3fD",
        "colab_type": "code",
        "outputId": "b798f9fc-20c1-4222-979d-43a8fc46a894",
        "colab": {
          "base_uri": "https://localhost:8080/",
          "height": 52
        }
      },
      "source": [
        "out #just making sure the numbers make sense (lol idk why i think these make sense but at least theyre not all 1 or 0, right?)"
      ],
      "execution_count": 0,
      "outputs": [
        {
          "output_type": "execute_result",
          "data": {
            "text/plain": [
              "tensor([[-0.9452,  3.4934, -1.3946,  ..., -0.0664,  0.1471, -0.2035]],\n",
              "       grad_fn=<AddmmBackward>)"
            ]
          },
          "metadata": {
            "tags": []
          },
          "execution_count": 40
        }
      ]
    },
    {
      "cell_type": "code",
      "metadata": {
        "id": "gz46NIp_GI0-",
        "colab_type": "code",
        "colab": {}
      },
      "source": [
        "#okayyyy so i finished swimming time to DO THIS\n",
        "\n",
        "#changed the RNN's input size to 32000 (2 seconds worth of audio) jut to make sure I didnt fluke the first one, and to make calculations a little quicker.\n",
        "#again, added a fully connected layer that takes in the RNN's hidden size of 100, but then changed the output to 32000 TIMES 2. so a mask of size 32000\n",
        "#for each of our speakers\n",
        "\n",
        "#again, it worked perfectly. over fit, no noise, super fast (like 2000 epochs/5mins of training to reach a loss of ~5000)\n",
        "\n",
        "class KhaledNetRNN2(nn.Module):\n",
        "  def __init__(self, input_size, hidden_size):\n",
        "    super(KhaledNetRNN2, self).__init__()\n",
        "    self.hidden_size = hidden_size\n",
        "    self.name = \"KhaledNetRNN2\"\n",
        "    self.rnn = nn.RNN(input_size, hidden_size, batch_first=True)\n",
        "    self.fc = nn.Linear(hidden_size, 16000*2)\n",
        "  \n",
        "  def forward(self, x):\n",
        "    h0 = torch.zeros(1, x.size(0), self.hidden_size)\n",
        "    output, _ = self.rnn(x, h0)\n",
        "    output = self.fc(output[:, -1, :])\n",
        "    return output\n",
        "\n",
        "def train(model, train_loader, valid_loader, num_epochs=5, learning_rate=1e-4):\n",
        "  criterion = nn.MSELoss()\n",
        "  optimizer = torch.optim.Adam(model.parameters(), lr=learning_rate)        \n",
        "  \n",
        "  for epoch in range(num_epochs): \n",
        "    for batchData, (truth1, truth2) in train_loader:       \n",
        "      batch = 0    \n",
        "      for i in range(len(batchData)):                \n",
        "        inputs = SPHFile(batchData[i]).content[:16000]\n",
        "        truths1 = SPHFile(truth1[i]).content[:16000]\n",
        "        truths2 = SPHFile(truth2[i]).content[:16000]\n",
        "      \n",
        "      t_inputs = torch.tensor(inputs.astype(\"int16\"))\n",
        "      t_truths1 = torch.tensor(truths1.astype(\"int16\"))\n",
        "      t_truths2 = torch.tensor(truths2.astype(\"int16\"))\n",
        "      \n",
        "      pred = model(t_inputs.float().unsqueeze(0).unsqueeze(0)).squeeze(0)\n",
        "\n",
        "      loss1 = criterion(pred[:16000].float() * t_inputs.float(), t_truths1.float())\n",
        "      loss2 = criterion(pred[16000:].float() * t_inputs.float(), t_truths2.float())\n",
        "\n",
        "      total_loss = loss1 + loss2\n",
        "      \n",
        "      optimizer.zero_grad()\n",
        "      total_loss.backward()\n",
        "      optimizer.step()\n",
        "    if epoch % 10 ==0:\n",
        "      print(total_loss)\n"
      ],
      "execution_count": 0,
      "outputs": []
    },
    {
      "cell_type": "code",
      "metadata": {
        "id": "tz86zPoXgCCY",
        "colab_type": "code",
        "colab": {}
      },
      "source": [
        "model2 = KhaledNetRNN2(16000,100) #define model"
      ],
      "execution_count": 0,
      "outputs": []
    },
    {
      "cell_type": "code",
      "metadata": {
        "id": "neT-IAC7gIxc",
        "colab_type": "code",
        "outputId": "e400c791-3b6f-47db-fff9-9edc3c8e207e",
        "colab": {
          "base_uri": "https://localhost:8080/",
          "height": 102
        }
      },
      "source": [
        "train(model2, overfit_loader, train_loader, num_epochs=50, learning_rate=7e-3) #train"
      ],
      "execution_count": 0,
      "outputs": [
        {
          "output_type": "stream",
          "text": [
            "tensor(1106725.8750, grad_fn=<AddBackward0>)\n",
            "tensor(167442.8438, grad_fn=<AddBackward0>)\n",
            "tensor(62490.7383, grad_fn=<AddBackward0>)\n",
            "tensor(27451.7344, grad_fn=<AddBackward0>)\n",
            "tensor(13828.6094, grad_fn=<AddBackward0>)\n"
          ],
          "name": "stdout"
        }
      ]
    },
    {
      "cell_type": "code",
      "metadata": {
        "id": "mdCkLUi-gMz-",
        "colab_type": "code",
        "colab": {}
      },
      "source": [
        "for x in overfit_loader:\n",
        "  inputs = torch.tensor(SPHFile(x[0][0]).content[:16000].astype(\"int16\")).float().unsqueeze(0).unsqueeze(0)  #get the file\n",
        "  break\n",
        "\n",
        "out = model2(inputs) #get the prediction\n",
        "\n",
        "export_this1 = inputs.squeeze() * out.squeeze()[:16000]  #multiply the first half of the mask by the overlay file\n",
        "export_this2 = inputs.squeeze() * out.squeeze()[16000:]  #multiply the second half of the mask by the overlay file\n",
        "\n",
        "\n",
        "export_this1 = export_this1.detach().numpy() #ugh\n",
        "export_this2 = export_this2.detach().numpy() #not this again\n",
        "\n",
        "wavio.write(\"/content/gdrive/My Drive/APS360 Project/Data/Presentation_output1.wav\", export_this1.astype(\"int16\"), 16000)  #output the first dude\n",
        "wavio.write(\"/content/gdrive/My Drive/APS360 Project/Data/Presentation_output2.wav\", export_this2.astype(\"int16\"), 16000)  #output the second dude\n",
        "wavio.write(\"/content/gdrive/My Drive/APS360 Project/Data/Presentation_overlay.wav\", inputs.detach().numpy().astype(\"int16\"), 16000) #output the original file to make sure \n",
        "                                                                                                                        #i wasnt doing anything wrong"
      ],
      "execution_count": 0,
      "outputs": []
    },
    {
      "cell_type": "code",
      "metadata": {
        "id": "s2do-vZ2kPIX",
        "colab_type": "code",
        "colab": {}
      },
      "source": [
        "#thanks for coming to my tedtalk"
      ],
      "execution_count": 0,
      "outputs": []
    },
    {
      "cell_type": "code",
      "metadata": {
        "id": "bOZbYa1HJfPw",
        "colab_type": "code",
        "colab": {}
      },
      "source": [
        "t = torch.tensor([1,1,1,1,1,1])"
      ],
      "execution_count": 0,
      "outputs": []
    },
    {
      "cell_type": "code",
      "metadata": {
        "id": "LAEyvzcxKUZ4",
        "colab_type": "code",
        "outputId": "2b9af916-05ac-4347-a808-dc15cc9a9f93",
        "colab": {
          "base_uri": "https://localhost:8080/",
          "height": 34
        }
      },
      "source": [
        "len(t)"
      ],
      "execution_count": 0,
      "outputs": [
        {
          "output_type": "execute_result",
          "data": {
            "text/plain": [
              "6"
            ]
          },
          "metadata": {
            "tags": []
          },
          "execution_count": 22
        }
      ]
    },
    {
      "cell_type": "code",
      "metadata": {
        "id": "BUiCe_lUKXDu",
        "colab_type": "code",
        "outputId": "4df5c9a3-0bc1-4472-d29e-86b7f3c5720a",
        "colab": {
          "base_uri": "https://localhost:8080/",
          "height": 34
        }
      },
      "source": [
        "math.ceil(len(t)/16000)"
      ],
      "execution_count": 0,
      "outputs": [
        {
          "output_type": "execute_result",
          "data": {
            "text/plain": [
              "1"
            ]
          },
          "metadata": {
            "tags": []
          },
          "execution_count": 23
        }
      ]
    },
    {
      "cell_type": "code",
      "metadata": {
        "id": "I0t-ypA1KnbW",
        "colab_type": "code",
        "colab": {}
      },
      "source": [
        "import math\n"
      ],
      "execution_count": 0,
      "outputs": []
    },
    {
      "cell_type": "code",
      "metadata": {
        "id": "m_MZfeTVKzzN",
        "colab_type": "code",
        "colab": {}
      },
      "source": [
        "def chunkate(tensor, number_of_chunks):\n",
        "  padded_tensor = torch.zeros(number_of_chunks * 16000)\n",
        "  padded_tensor[:len(tensor)] = tensor\n",
        "  chunks = []\n",
        "  for chunk in range(number_of_chunks):\n",
        "    chunks.append(padded_tensor[chunk * 16000: (chunk+1) *16000])\n",
        "  return chunks\n",
        "\n",
        "class KhaledNetRNN3(nn.Module):\n",
        "  def __init__(self, input_size, hidden_size):\n",
        "    super(KhaledNetRNN3, self).__init__()\n",
        "    self.hidden_size = hidden_size\n",
        "    self.name = \"KhaledNetRNN3\"\n",
        "    self.rnn = nn.RNN(input_size, hidden_size, batch_first=True)\n",
        "    self.fc = nn.Linear(hidden_size, input_size*2)\n",
        "  \n",
        "  def forward(self, x):\n",
        "    h0 = torch.zeros(1, x.size(0), self.hidden_size)\n",
        "    output, _ = self.rnn(x, h0)\n",
        "    output = self.fc(output[:, -1, :])\n",
        "    return output\n",
        "\n",
        "def train(model, train_loader, valid_loader, num_epochs=5, learning_rate=1e-4):\n",
        "  criterion = nn.MSELoss()\n",
        "  optimizer = torch.optim.Adam(model.parameters(), lr=learning_rate)        \n",
        "  \n",
        "  for epoch in range(num_epochs): \n",
        "    for batchData, (truth1, truth2) in train_loader:  \n",
        "      batch_loss = 0    \n",
        "      for i in range(len(batchData)):                \n",
        "        inputs = SPHFile(batchData[i]).content\n",
        "        truths1 = SPHFile(truth1[i]).content\n",
        "        truths2 = SPHFile(truth2[i]).content\n",
        "\n",
        "        t_inputs = torch.tensor(inputs.astype(\"int16\"))\n",
        "        t_truths1 = torch.tensor(truths1.astype(\"int16\"))\n",
        "        t_truths2 = torch.tensor(truths2.astype(\"int16\"))\n",
        "        \n",
        "        number_of_chunks = math.ceil(max(len(t_inputs), len(t_truths1), len(t_truths2))/16000)\n",
        "        \n",
        "        input_chunks = chunkate(t_inputs, number_of_chunks)\n",
        "        truth1_chunks = chunkate(t_truths1, number_of_chunks)\n",
        "        truth2_chunks = chunkate(t_truths2, number_of_chunks)\n",
        "        \n",
        "        for j in range(number_of_chunks):\n",
        "          pred = model(input_chunks[j].float().unsqueeze(0).unsqueeze(0)).squeeze(0)\n",
        "          loss1 = criterion(pred[:16000].float() * input_chunks[j].float(), truth1_chunks[j].float())\n",
        "          loss2 = criterion(pred[16000:].float() * input_chunks[j].float(), truth2_chunks[j].float())\n",
        "          batch_loss += loss1 + loss2\n",
        "      print(batch_loss)\n",
        "\n",
        "      optimizer.zero_grad()\n",
        "      batch_loss.backward()\n",
        "      optimizer.step()\n",
        "    if epoch % 10 ==0:\n",
        "      print(batch_loss)"
      ],
      "execution_count": 0,
      "outputs": []
    },
    {
      "cell_type": "code",
      "metadata": {
        "id": "K2z_tlIEwSGq",
        "colab_type": "code",
        "colab": {}
      },
      "source": [
        "model = KhaledNetRNN3(16000,1000)"
      ],
      "execution_count": 0,
      "outputs": []
    },
    {
      "cell_type": "code",
      "metadata": {
        "id": "qGOyLiWLwUH5",
        "colab_type": "code",
        "colab": {}
      },
      "source": [
        "train(model, overfit_loader, overfit_loader, num_epochs=500, learning_rate=5e-3) #train"
      ],
      "execution_count": 0,
      "outputs": []
    },
    {
      "cell_type": "code",
      "metadata": {
        "id": "q3xLT41_xi7m",
        "colab_type": "code",
        "colab": {}
      },
      "source": [
        "i = 0\n",
        "for x in train_loader:\n",
        "  inputs = torch.tensor(SPHFile(x[0][0]).content.astype(\"int16\"))  #get the file\n",
        "  i+=1\n",
        "  if i == 1:\n",
        "    break\n",
        "\n",
        "number_of_chunks = math.ceil(len(inputs)/16000)\n",
        "input_chunks = chunkate(inputs, number_of_chunks)\n",
        "\n",
        "speaker1 = torch.tensor([])\n",
        "speaker2 = torch.tensor([])\n",
        "\n",
        "for j in range(number_of_chunks):\n",
        "  masks = modelA(input_chunks[j].float().unsqueeze(0).unsqueeze(0)).squeeze(0)  \n",
        "  out_chunk1 = input_chunks[j].squeeze() * masks.squeeze()[:16000]  #multiply the first half of the mask by the overlay file\n",
        "  out_chunk2 = input_chunks[j].squeeze() * masks.squeeze()[16000:]  #multiply the second half of the mask by the overlay file\n",
        "  speaker1 = torch.cat((speaker1, out_chunk1.cpu()))\n",
        "  speaker2 = torch.cat((speaker2, out_chunk2.cpu()))\n",
        "\n",
        "\n",
        "export_this1 = speaker1.detach().numpy() #ugh\n",
        "export_this2 = speaker2.detach().numpy() #not this again\n",
        "\n",
        "wavio.write(\"/content/gdrive/My Drive/APS360 Project/Data/test110.wav\", export_this1.astype(\"int16\"), 16000)  #output the first dude\n",
        "wavio.write(\"/content/gdrive/My Drive/APS360 Project/Data/test111.wav\", export_this2.astype(\"int16\"), 16000)  #output the second dude\n",
        "wavio.write(\"/content/gdrive/My Drive/APS360 Project/Data/test112.wav\", inputs.detach().numpy().astype(\"int16\"), 16000) #output the original file to make sure \n",
        "                                                                                                                        #i wasnt doing anything wrong"
      ],
      "execution_count": 0,
      "outputs": []
    },
    {
      "cell_type": "code",
      "metadata": {
        "id": "hX051vp19sat",
        "colab_type": "code",
        "colab": {}
      },
      "source": [
        "#This part is my gpu test\n",
        "\n",
        "def chunkate(tensor, number_of_chunks):\n",
        "  padded_tensor = torch.zeros(number_of_chunks * 16000).cuda()\n",
        "  padded_tensor[:len(tensor)] = tensor\n",
        "  chunks = []\n",
        "  for chunk in range(number_of_chunks):\n",
        "    chunks.append(padded_tensor[chunk * 16000: (chunk+1) *16000].cuda())\n",
        "  return chunks\n",
        "\n",
        "class KhaledNetRNN33(nn.Module):\n",
        "  def __init__(self, input_size, hidden_size):\n",
        "    super(KhaledNetRNN33, self).__init__()\n",
        "    self.hidden_size = hidden_size\n",
        "    self.name = \"KhaledNetRNN3\"\n",
        "    self.rnn = nn.RNN(input_size, hidden_size, batch_first=True).cuda()\n",
        "    self.fc = nn.Linear(hidden_size, input_size*2).cuda()\n",
        "  \n",
        "  def forward(self, x):\n",
        "    h0 = torch.zeros(1, x.size(0), self.hidden_size).cuda()\n",
        "    x.cuda()\n",
        "    output, _ = self.rnn(x, h0)\n",
        "    output = self.fc(output[:, -1, :])\n",
        "    return output\n",
        "\n",
        "  \n",
        "def get_accuracy(model, data_loader):\n",
        "  losses = []\n",
        "  criterion = nn.MSELoss()\n",
        "  for batchData, (truth1, truth2) in data_loader:  \n",
        "    batch_loss = 0    \n",
        "    for i in range(len(batchData)):                \n",
        "      inputs = SPHFile(batchData[i]).content\n",
        "      truths1 = SPHFile(truth1[i]).content\n",
        "      truths2 = SPHFile(truth2[i]).content\n",
        "\n",
        "      t_inputs = torch.tensor(inputs.astype(\"int16\")).cuda()\n",
        "      t_truths1 = torch.tensor(truths1.astype(\"int16\")).cuda()\n",
        "      t_truths2 = torch.tensor(truths2.astype(\"int16\")).cuda()\n",
        "\n",
        "      number_of_chunks = math.ceil(max(len(t_inputs), len(t_truths1), len(t_truths2))/16000)\n",
        "\n",
        "      input_chunks = chunkate(t_inputs, number_of_chunks)\n",
        "      truth1_chunks = chunkate(t_truths1, number_of_chunks)\n",
        "      truth2_chunks = chunkate(t_truths2, number_of_chunks)\n",
        "\n",
        "      for j in range(number_of_chunks):\n",
        "        pred = model(input_chunks[j].float().unsqueeze(0).unsqueeze(0)).squeeze(0)\n",
        "        loss1 = criterion(pred[:16000].float() * input_chunks[j].float(), truth1_chunks[j].float())\n",
        "        loss2 = criterion(pred[16000:].float() * input_chunks[j].float(), truth2_chunks[j].float())\n",
        "        batch_loss += loss1 + loss2\n",
        "    losses.append(batch_loss.item())\n",
        "  average_loss = np.array(losses).mean()\n",
        "  return average_loss\n",
        "\n",
        "  \n",
        "def train(model, train_loader, valid_loader, num_epochs=5, learning_rate=1e-4):\n",
        "  criterion = nn.MSELoss()\n",
        "  optimizer = torch.optim.Adam(model.parameters(), lr=learning_rate)        \n",
        "  loss = []\n",
        "  loss_counter = 0\n",
        "  for epoch in range(num_epochs): \n",
        "    for batchData, (truth1, truth2) in train_loader:  \n",
        "      batch_loss = 0    \n",
        "      for i in range(len(batchData)):                \n",
        "        inputs = SPHFile(batchData[i]).content\n",
        "        truths1 = SPHFile(truth1[i]).content\n",
        "        truths2 = SPHFile(truth2[i]).content\n",
        "\n",
        "        t_inputs = torch.tensor(inputs.astype(\"int16\")).cuda()\n",
        "        t_truths1 = torch.tensor(truths1.astype(\"int16\")).cuda()\n",
        "        t_truths2 = torch.tensor(truths2.astype(\"int16\")).cuda()\n",
        "        \n",
        "        number_of_chunks = math.ceil(max(len(t_inputs), len(t_truths1), len(t_truths2))/16000)\n",
        "        \n",
        "        input_chunks = chunkate(t_inputs, number_of_chunks)\n",
        "        truth1_chunks = chunkate(t_truths1, number_of_chunks)\n",
        "        truth2_chunks = chunkate(t_truths2, number_of_chunks)\n",
        "        \n",
        "        for j in range(number_of_chunks):\n",
        "          pred = model(input_chunks[j].float().unsqueeze(0).unsqueeze(0)).squeeze(0)\n",
        "          loss1 = criterion(pred[:16000].float() * input_chunks[j].float(), truth1_chunks[j].float())\n",
        "          loss2 = criterion(pred[16000:].float() * input_chunks[j].float(), truth2_chunks[j].float())\n",
        "          batch_loss += loss1 + loss2\n",
        "          \n",
        "      \n",
        "      optimizer.zero_grad()\n",
        "      batch_loss.backward()\n",
        "      optimizer.step()\n",
        "      loss.append(batch_loss)\n",
        "      loss_counter += 1\n",
        "      \n",
        "#       if loss_counter % 10 == 0:\n",
        "#         print(\"Batch \", loss_counter, \": \", batch_loss.item())\n",
        "      if loss_counter % 500 == 0:\n",
        "        plt.plot(loss)\n",
        "        plt.show()\n",
        "      if loss_counter % 1000 == 0:\n",
        "        model_name = \"RNN400\" + str(loss_counter)\n",
        "        torch.save(model.state_dict, \"/content/gdrive/My Drive/APS360 Project/Data/Model Checkpoints/\"+model_name)\n",
        "    if epoch % 10 ==0:\n",
        "      print(\"Epoch Loss: \", batch_loss)"
      ],
      "execution_count": 0,
      "outputs": []
    },
    {
      "cell_type": "code",
      "metadata": {
        "id": "P-0sgSSKDl54",
        "colab_type": "code",
        "outputId": "19c98115-a861-45b7-d675-24d68ad5a399",
        "colab": {
          "base_uri": "https://localhost:8080/",
          "height": 68
        }
      },
      "source": [
        "overfit_set = DataFile(\"/content/gdrive/My Drive/APS360 Project/Data/Files Overfit/One File/\")\n",
        "overfit_loader = DataLoader(overfit_set, batch_size=1, shuffle=True, num_workers=0)\n",
        "print(len(overfit_set))\n",
        "\n",
        "train_set = DataFile(\"/content/gdrive/My Drive/APS360 Project/Data/Files Overfit/Train/\")\n",
        "train_loader = DataLoader(train_set, batch_size=32, shuffle=True, num_workers=0)\n",
        "print(len(train_set))\n",
        "\n",
        "val_set = DataFile(\"/content/gdrive/My Drive/APS360 Project/Data/Files Overfit/Validation/\")\n",
        "val_loader = DataLoader(val_set, batch_size=32, shuffle=True, num_workers=0)\n",
        "print(len(val_set))"
      ],
      "execution_count": 0,
      "outputs": [
        {
          "output_type": "stream",
          "text": [
            "1\n",
            "20\n",
            "20\n"
          ],
          "name": "stdout"
        }
      ]
    },
    {
      "cell_type": "code",
      "metadata": {
        "id": "oWI5KuCW-I2m",
        "colab_type": "code",
        "colab": {}
      },
      "source": [
        "model = KhaledNetRNN33(16000,100)"
      ],
      "execution_count": 0,
      "outputs": []
    },
    {
      "cell_type": "code",
      "metadata": {
        "id": "jiIZsz8trmJF",
        "colab_type": "code",
        "outputId": "e16adcc9-6ee0-43ff-91da-36bbace30f92",
        "colab": {
          "base_uri": "https://localhost:8080/",
          "height": 68
        }
      },
      "source": [
        "t1 = torch.randn(1,16000).cuda()\n",
        "t2 = torch.randn(1,16000).cuda()\n",
        "t = torch.stack([t1,t2])\n",
        "model(t)"
      ],
      "execution_count": 0,
      "outputs": [
        {
          "output_type": "execute_result",
          "data": {
            "text/plain": [
              "tensor([[-0.4365, -0.4413, -0.2952,  ...,  0.1278, -0.4277,  0.1733],\n",
              "        [-0.1458,  0.6846,  0.1563,  ..., -0.2140,  0.2658,  0.2985]],\n",
              "       device='cuda:0', grad_fn=<AddmmBackward>)"
            ]
          },
          "metadata": {
            "tags": []
          },
          "execution_count": 40
        }
      ]
    },
    {
      "cell_type": "code",
      "metadata": {
        "id": "6AeYkXbW_Vnd",
        "colab_type": "code",
        "outputId": "320fa519-8856-4204-98a8-434bb3e45995",
        "colab": {
          "base_uri": "https://localhost:8080/",
          "height": 1000
        }
      },
      "source": [
        "train(model, train_loader, train_loader, num_epochs=500, learning_rate=1e-3) #train"
      ],
      "execution_count": 0,
      "outputs": [
        {
          "output_type": "stream",
          "text": [
            "Epoch Loss:  tensor(1637805.2500, device='cuda:0', grad_fn=<AddBackward0>)\n",
            "Epoch Loss:  tensor(1487712., device='cuda:0', grad_fn=<AddBackward0>)\n",
            "Epoch Loss:  tensor(1279081.8750, device='cuda:0', grad_fn=<AddBackward0>)\n",
            "Epoch Loss:  tensor(1206891.6250, device='cuda:0', grad_fn=<AddBackward0>)\n",
            "Epoch Loss:  tensor(1194151.6250, device='cuda:0', grad_fn=<AddBackward0>)\n",
            "Epoch Loss:  tensor(1215448.6250, device='cuda:0', grad_fn=<AddBackward0>)\n",
            "Epoch Loss:  tensor(1210088.1250, device='cuda:0', grad_fn=<AddBackward0>)\n",
            "Epoch Loss:  tensor(1161341.3750, device='cuda:0', grad_fn=<AddBackward0>)\n",
            "Epoch Loss:  tensor(1106008.2500, device='cuda:0', grad_fn=<AddBackward0>)\n",
            "Epoch Loss:  tensor(1079231.5000, device='cuda:0', grad_fn=<AddBackward0>)\n",
            "Epoch Loss:  tensor(1021484.2500, device='cuda:0', grad_fn=<AddBackward0>)\n",
            "Epoch Loss:  tensor(1028594.8750, device='cuda:0', grad_fn=<AddBackward0>)\n",
            "Epoch Loss:  tensor(985421.6250, device='cuda:0', grad_fn=<AddBackward0>)\n"
          ],
          "name": "stdout"
        },
        {
          "output_type": "display_data",
          "data": {
            "image/png": "[encoded data removed]",
            "text/plain": [
              "<Figure size 432x288 with 1 Axes>"
            ]
          },
          "metadata": {
            "tags": []
          }
        },
        {
          "output_type": "stream",
          "text": [
            "Epoch Loss:  tensor(991427.8750, device='cuda:0', grad_fn=<AddBackward0>)\n",
            "Epoch Loss:  tensor(978408.6250, device='cuda:0', grad_fn=<AddBackward0>)\n",
            "Epoch Loss:  tensor(942203.1875, device='cuda:0', grad_fn=<AddBackward0>)\n",
            "Epoch Loss:  tensor(932931.4375, device='cuda:0', grad_fn=<AddBackward0>)\n",
            "Epoch Loss:  tensor(944169.1250, device='cuda:0', grad_fn=<AddBackward0>)\n",
            "Epoch Loss:  tensor(881654.8750, device='cuda:0', grad_fn=<AddBackward0>)\n",
            "Epoch Loss:  tensor(875671.2500, device='cuda:0', grad_fn=<AddBackward0>)\n",
            "Epoch Loss:  tensor(898055.8125, device='cuda:0', grad_fn=<AddBackward0>)\n",
            "Epoch Loss:  tensor(862312., device='cuda:0', grad_fn=<AddBackward0>)\n",
            "Epoch Loss:  tensor(859057.3125, device='cuda:0', grad_fn=<AddBackward0>)\n",
            "Epoch Loss:  tensor(900063.4375, device='cuda:0', grad_fn=<AddBackward0>)\n",
            "Epoch Loss:  tensor(862082.7500, device='cuda:0', grad_fn=<AddBackward0>)\n"
          ],
          "name": "stdout"
        },
        {
          "output_type": "display_data",
          "data": {
            "image/png": "[encoded data removed]",
            "text/plain": [
              "<Figure size 432x288 with 1 Axes>"
            ]
          },
          "metadata": {
            "tags": []
          }
        },
        {
          "output_type": "stream",
          "text": [
            "/usr/local/lib/python3.6/dist-packages/torch/serialization.py:256: UserWarning: Couldn't retrieve source code for container of type KhaledNetRNN33. It won't be checked for correctness upon loading.\n",
            "  \"type \" + obj.__name__ + \". It won't be checked \"\n"
          ],
          "name": "stderr"
        },
        {
          "output_type": "error",
          "ename": "PicklingError",
          "evalue": "ignored",
          "traceback": [
            "\u001b[0;31m---------------------------------------------------------------------------\u001b[0m",
            "\u001b[0;31mPicklingError\u001b[0m                             Traceback (most recent call last)",
            "\u001b[0;32m<ipython-input-41-4d12ccc1c5fc>\u001b[0m in \u001b[0;36m<module>\u001b[0;34m()\u001b[0m\n\u001b[0;32m----> 1\u001b[0;31m \u001b[0mtrain\u001b[0m\u001b[0;34m(\u001b[0m\u001b[0mmodel\u001b[0m\u001b[0;34m,\u001b[0m \u001b[0mtrain_loader\u001b[0m\u001b[0;34m,\u001b[0m \u001b[0mtrain_loader\u001b[0m\u001b[0;34m,\u001b[0m \u001b[0mnum_epochs\u001b[0m\u001b[0;34m=\u001b[0m\u001b[0;36m500\u001b[0m\u001b[0;34m,\u001b[0m \u001b[0mlearning_rate\u001b[0m\u001b[0;34m=\u001b[0m\u001b[0;36m1e-3\u001b[0m\u001b[0;34m)\u001b[0m \u001b[0;31m#train\u001b[0m\u001b[0;34m\u001b[0m\u001b[0;34m\u001b[0m\u001b[0m\n\u001b[0m",
            "\u001b[0;32m<ipython-input-39-3352eb890ccb>\u001b[0m in \u001b[0;36mtrain\u001b[0;34m(model, train_loader, valid_loader, num_epochs, learning_rate)\u001b[0m\n\u001b[1;32m     97\u001b[0m       \u001b[0;32mif\u001b[0m \u001b[0mloss_counter\u001b[0m \u001b[0;34m%\u001b[0m \u001b[0;36m1000\u001b[0m \u001b[0;34m==\u001b[0m \u001b[0;36m0\u001b[0m\u001b[0;34m:\u001b[0m\u001b[0;34m\u001b[0m\u001b[0;34m\u001b[0m\u001b[0m\n\u001b[1;32m     98\u001b[0m         \u001b[0mmodel_name\u001b[0m \u001b[0;34m=\u001b[0m \u001b[0;34m\"RNN400\"\u001b[0m \u001b[0;34m+\u001b[0m \u001b[0mstr\u001b[0m\u001b[0;34m(\u001b[0m\u001b[0mloss_counter\u001b[0m\u001b[0;34m)\u001b[0m\u001b[0;34m\u001b[0m\u001b[0;34m\u001b[0m\u001b[0m\n\u001b[0;32m---> 99\u001b[0;31m         \u001b[0mtorch\u001b[0m\u001b[0;34m.\u001b[0m\u001b[0msave\u001b[0m\u001b[0;34m(\u001b[0m\u001b[0mmodel\u001b[0m\u001b[0;34m.\u001b[0m\u001b[0mstate_dict\u001b[0m\u001b[0;34m,\u001b[0m \u001b[0;34m\"/content/gdrive/My Drive/APS360 Project/Data/Model Checkpoints/\"\u001b[0m\u001b[0;34m+\u001b[0m\u001b[0mmodel_name\u001b[0m\u001b[0;34m)\u001b[0m\u001b[0;34m\u001b[0m\u001b[0;34m\u001b[0m\u001b[0m\n\u001b[0m\u001b[1;32m    100\u001b[0m     \u001b[0;32mif\u001b[0m \u001b[0mepoch\u001b[0m \u001b[0;34m%\u001b[0m \u001b[0;36m10\u001b[0m \u001b[0;34m==\u001b[0m\u001b[0;36m0\u001b[0m\u001b[0;34m:\u001b[0m\u001b[0;34m\u001b[0m\u001b[0;34m\u001b[0m\u001b[0m\n\u001b[1;32m    101\u001b[0m       \u001b[0mprint\u001b[0m\u001b[0;34m(\u001b[0m\u001b[0;34m\"Epoch Loss: \"\u001b[0m\u001b[0;34m,\u001b[0m \u001b[0mbatch_loss\u001b[0m\u001b[0;34m)\u001b[0m\u001b[0;34m\u001b[0m\u001b[0;34m\u001b[0m\u001b[0m\n",
            "\u001b[0;32m/usr/local/lib/python3.6/dist-packages/torch/serialization.py\u001b[0m in \u001b[0;36msave\u001b[0;34m(obj, f, pickle_module, pickle_protocol)\u001b[0m\n\u001b[1;32m    222\u001b[0m         \u001b[0;34m>>\u001b[0m\u001b[0;34m>\u001b[0m \u001b[0mtorch\u001b[0m\u001b[0;34m.\u001b[0m\u001b[0msave\u001b[0m\u001b[0;34m(\u001b[0m\u001b[0mx\u001b[0m\u001b[0;34m,\u001b[0m \u001b[0mbuffer\u001b[0m\u001b[0;34m)\u001b[0m\u001b[0;34m\u001b[0m\u001b[0;34m\u001b[0m\u001b[0m\n\u001b[1;32m    223\u001b[0m     \"\"\"\n\u001b[0;32m--> 224\u001b[0;31m     \u001b[0;32mreturn\u001b[0m \u001b[0m_with_file_like\u001b[0m\u001b[0;34m(\u001b[0m\u001b[0mf\u001b[0m\u001b[0;34m,\u001b[0m \u001b[0;34m\"wb\"\u001b[0m\u001b[0;34m,\u001b[0m \u001b[0;32mlambda\u001b[0m \u001b[0mf\u001b[0m\u001b[0;34m:\u001b[0m \u001b[0m_save\u001b[0m\u001b[0;34m(\u001b[0m\u001b[0mobj\u001b[0m\u001b[0;34m,\u001b[0m \u001b[0mf\u001b[0m\u001b[0;34m,\u001b[0m \u001b[0mpickle_module\u001b[0m\u001b[0;34m,\u001b[0m \u001b[0mpickle_protocol\u001b[0m\u001b[0;34m)\u001b[0m\u001b[0;34m)\u001b[0m\u001b[0;34m\u001b[0m\u001b[0;34m\u001b[0m\u001b[0m\n\u001b[0m\u001b[1;32m    225\u001b[0m \u001b[0;34m\u001b[0m\u001b[0m\n\u001b[1;32m    226\u001b[0m \u001b[0;34m\u001b[0m\u001b[0m\n",
            "\u001b[0;32m/usr/local/lib/python3.6/dist-packages/torch/serialization.py\u001b[0m in \u001b[0;36m_with_file_like\u001b[0;34m(f, mode, body)\u001b[0m\n\u001b[1;32m    147\u001b[0m         \u001b[0mf\u001b[0m \u001b[0;34m=\u001b[0m \u001b[0mopen\u001b[0m\u001b[0;34m(\u001b[0m\u001b[0mf\u001b[0m\u001b[0;34m,\u001b[0m \u001b[0mmode\u001b[0m\u001b[0;34m)\u001b[0m\u001b[0;34m\u001b[0m\u001b[0;34m\u001b[0m\u001b[0m\n\u001b[1;32m    148\u001b[0m     \u001b[0;32mtry\u001b[0m\u001b[0;34m:\u001b[0m\u001b[0;34m\u001b[0m\u001b[0;34m\u001b[0m\u001b[0m\n\u001b[0;32m--> 149\u001b[0;31m         \u001b[0;32mreturn\u001b[0m \u001b[0mbody\u001b[0m\u001b[0;34m(\u001b[0m\u001b[0mf\u001b[0m\u001b[0;34m)\u001b[0m\u001b[0;34m\u001b[0m\u001b[0;34m\u001b[0m\u001b[0m\n\u001b[0m\u001b[1;32m    150\u001b[0m     \u001b[0;32mfinally\u001b[0m\u001b[0;34m:\u001b[0m\u001b[0;34m\u001b[0m\u001b[0;34m\u001b[0m\u001b[0m\n\u001b[1;32m    151\u001b[0m         \u001b[0;32mif\u001b[0m \u001b[0mnew_fd\u001b[0m\u001b[0;34m:\u001b[0m\u001b[0;34m\u001b[0m\u001b[0;34m\u001b[0m\u001b[0m\n",
            "\u001b[0;32m/usr/local/lib/python3.6/dist-packages/torch/serialization.py\u001b[0m in \u001b[0;36m<lambda>\u001b[0;34m(f)\u001b[0m\n\u001b[1;32m    222\u001b[0m         \u001b[0;34m>>\u001b[0m\u001b[0;34m>\u001b[0m \u001b[0mtorch\u001b[0m\u001b[0;34m.\u001b[0m\u001b[0msave\u001b[0m\u001b[0;34m(\u001b[0m\u001b[0mx\u001b[0m\u001b[0;34m,\u001b[0m \u001b[0mbuffer\u001b[0m\u001b[0;34m)\u001b[0m\u001b[0;34m\u001b[0m\u001b[0;34m\u001b[0m\u001b[0m\n\u001b[1;32m    223\u001b[0m     \"\"\"\n\u001b[0;32m--> 224\u001b[0;31m     \u001b[0;32mreturn\u001b[0m \u001b[0m_with_file_like\u001b[0m\u001b[0;34m(\u001b[0m\u001b[0mf\u001b[0m\u001b[0;34m,\u001b[0m \u001b[0;34m\"wb\"\u001b[0m\u001b[0;34m,\u001b[0m \u001b[0;32mlambda\u001b[0m \u001b[0mf\u001b[0m\u001b[0;34m:\u001b[0m \u001b[0m_save\u001b[0m\u001b[0;34m(\u001b[0m\u001b[0mobj\u001b[0m\u001b[0;34m,\u001b[0m \u001b[0mf\u001b[0m\u001b[0;34m,\u001b[0m \u001b[0mpickle_module\u001b[0m\u001b[0;34m,\u001b[0m \u001b[0mpickle_protocol\u001b[0m\u001b[0;34m)\u001b[0m\u001b[0;34m)\u001b[0m\u001b[0;34m\u001b[0m\u001b[0;34m\u001b[0m\u001b[0m\n\u001b[0m\u001b[1;32m    225\u001b[0m \u001b[0;34m\u001b[0m\u001b[0m\n\u001b[1;32m    226\u001b[0m \u001b[0;34m\u001b[0m\u001b[0m\n",
            "\u001b[0;32m/usr/local/lib/python3.6/dist-packages/torch/serialization.py\u001b[0m in \u001b[0;36m_save\u001b[0;34m(obj, f, pickle_module, pickle_protocol)\u001b[0m\n\u001b[1;32m    295\u001b[0m     \u001b[0mpickler\u001b[0m \u001b[0;34m=\u001b[0m \u001b[0mpickle_module\u001b[0m\u001b[0;34m.\u001b[0m\u001b[0mPickler\u001b[0m\u001b[0;34m(\u001b[0m\u001b[0mf\u001b[0m\u001b[0;34m,\u001b[0m \u001b[0mprotocol\u001b[0m\u001b[0;34m=\u001b[0m\u001b[0mpickle_protocol\u001b[0m\u001b[0;34m)\u001b[0m\u001b[0;34m\u001b[0m\u001b[0;34m\u001b[0m\u001b[0m\n\u001b[1;32m    296\u001b[0m     \u001b[0mpickler\u001b[0m\u001b[0;34m.\u001b[0m\u001b[0mpersistent_id\u001b[0m \u001b[0;34m=\u001b[0m \u001b[0mpersistent_id\u001b[0m\u001b[0;34m\u001b[0m\u001b[0;34m\u001b[0m\u001b[0m\n\u001b[0;32m--> 297\u001b[0;31m     \u001b[0mpickler\u001b[0m\u001b[0;34m.\u001b[0m\u001b[0mdump\u001b[0m\u001b[0;34m(\u001b[0m\u001b[0mobj\u001b[0m\u001b[0;34m)\u001b[0m\u001b[0;34m\u001b[0m\u001b[0;34m\u001b[0m\u001b[0m\n\u001b[0m\u001b[1;32m    298\u001b[0m \u001b[0;34m\u001b[0m\u001b[0m\n\u001b[1;32m    299\u001b[0m     \u001b[0mserialized_storage_keys\u001b[0m \u001b[0;34m=\u001b[0m \u001b[0msorted\u001b[0m\u001b[0;34m(\u001b[0m\u001b[0mserialized_storages\u001b[0m\u001b[0;34m.\u001b[0m\u001b[0mkeys\u001b[0m\u001b[0;34m(\u001b[0m\u001b[0;34m)\u001b[0m\u001b[0;34m)\u001b[0m\u001b[0;34m\u001b[0m\u001b[0;34m\u001b[0m\u001b[0m\n",
            "\u001b[0;31mPicklingError\u001b[0m: Can't pickle <class '__main__.KhaledNetRNN33'>: it's not the same object as __main__.KhaledNetRNN33"
          ]
        }
      ]
    },
    {
      "cell_type": "code",
      "metadata": {
        "id": "Qp2wHhoJFhHt",
        "colab_type": "code",
        "outputId": "23cec2ce-caf1-4134-8f01-08093a4908de",
        "colab": {
          "base_uri": "https://localhost:8080/",
          "height": 51
        }
      },
      "source": [
        "one = torch.tensor([[1.0,1.0,1.0],[2.0,2.0,2.0]])\n",
        "t1 = torch.tensor([0.1,0.1,0.1])\n",
        "t2 = torch.tensor([3.0,2.0,2.0])\n",
        "\n",
        "t = torch.stack((t1,t2))\n",
        "t*one"
      ],
      "execution_count": 0,
      "outputs": [
        {
          "output_type": "execute_result",
          "data": {
            "text/plain": [
              "tensor([[0.1000, 0.1000, 0.1000],\n",
              "        [6.0000, 4.0000, 4.0000]])"
            ]
          },
          "metadata": {
            "tags": []
          },
          "execution_count": 29
        }
      ]
    },
    {
      "cell_type": "code",
      "metadata": {
        "id": "V-QYO8fGFhwT",
        "colab_type": "code",
        "outputId": "58e049df-3a0a-483b-e9db-3c8dccb3c3d7",
        "colab": {
          "base_uri": "https://localhost:8080/",
          "height": 34
        }
      },
      "source": [
        ""
      ],
      "execution_count": 0,
      "outputs": [
        {
          "output_type": "execute_result",
          "data": {
            "text/plain": [
              "tensor([1, 1, 1])"
            ]
          },
          "metadata": {
            "tags": []
          },
          "execution_count": 22
        }
      ]
    },
    {
      "cell_type": "code",
      "metadata": {
        "id": "aqBUq31-PdTC",
        "colab_type": "code",
        "colab": {}
      },
      "source": [
        "# Added get_loss function and considered validation loader when calculating loss and graphing the training curve\n",
        "\n",
        "def chunkate(tensor, number_of_chunks):\n",
        "  padded_tensor = torch.zeros(number_of_chunks * 16000).cuda()\n",
        "  padded_tensor[:len(tensor)] = tensor\n",
        "  chunks = []\n",
        "  for chunk in range(number_of_chunks):\n",
        "    chunks.append(padded_tensor[chunk * 16000: (chunk+1) *16000].cuda())\n",
        "  return chunks\n",
        "\n",
        "class BaselineRNN33(nn.Module):\n",
        "  def __init__(self, input_size, hidden_size):\n",
        "    super(KhaledNetRNN33, self).__init__()\n",
        "    self.hidden_size = hidden_size\n",
        "    self.name = \"KhaledNetRNN3\"\n",
        "    self.rnn = nn.RNN(input_size, hidden_size, batch_first=True).cuda()\n",
        "    self.fc = nn.Linear(hidden_size, input_size*2).cuda()\n",
        "  \n",
        "  def forward(self, x):\n",
        "    h0 = torch.zeros(1, x.size(0), self.hidden_size).cuda()\n",
        "    x.cuda()\n",
        "    output, _ = self.rnn(x, h0)\n",
        "    output = self.fc(output[:, -1, :])\n",
        "    return output\n",
        "\n",
        "  \n",
        "def get_loss(model, data_loader):\n",
        "  losses = []\n",
        "  criterion = nn.MSELoss()\n",
        "  for batchData, (truth1, truth2) in data_loader:  \n",
        "    batch_loss = 0    \n",
        "    for i in range(len(batchData)):                \n",
        "      inputs = SPHFile(batchData[i]).content\n",
        "      truths1 = SPHFile(truth1[i]).content\n",
        "      truths2 = SPHFile(truth2[i]).content\n",
        "\n",
        "      t_inputs = torch.tensor(inputs.astype(\"int16\")).cuda()\n",
        "      t_truths1 = torch.tensor(truths1.astype(\"int16\")).cuda()\n",
        "      t_truths2 = torch.tensor(truths2.astype(\"int16\")).cuda()\n",
        "\n",
        "      number_of_chunks = math.ceil(max(len(t_inputs), len(t_truths1), len(t_truths2))/16000)\n",
        "\n",
        "      input_chunks = chunkate(t_inputs, number_of_chunks)\n",
        "      truth1_chunks = chunkate(t_truths1, number_of_chunks)\n",
        "      truth2_chunks = chunkate(t_truths2, number_of_chunks)\n",
        "\n",
        "      for j in range(number_of_chunks):\n",
        "        pred = model(input_chunks[j].float().unsqueeze(0).unsqueeze(0)).squeeze(0)\n",
        "        loss1 = criterion(pred[:16000].float() * input_chunks[j].float(), truth1_chunks[j].float())\n",
        "        loss2 = criterion(pred[16000:].float() * input_chunks[j].float(), truth2_chunks[j].float())\n",
        "        batch_loss += loss1 + loss2\n",
        "    losses.append(batch_loss.item())\n",
        "  average_loss = np.array(losses).mean()\n",
        "  return average_loss\n",
        "\n",
        "  \n",
        "def train(model, train_loader, valid_loader, num_epochs=5, learning_rate=1e-4): \n",
        "  criterion = nn.MSELoss()\n",
        "  optimizer = torch.optim.Adam(model.parameters(), lr=learning_rate)        \n",
        "  loss = []\n",
        "  val_loss = [] # an array of validation losses\n",
        "  loss_counter = 0\n",
        "  for epoch in range(num_epochs): \n",
        "    for batchData, (truth1, truth2) in train_loader:  \n",
        "      batch_loss = 0    \n",
        "      for i in range(len(batchData)):                \n",
        "        inputs = SPHFile(batchData[i]).content\n",
        "        truths1 = SPHFile(truth1[i]).content\n",
        "        truths2 = SPHFile(truth2[i]).content\n",
        "\n",
        "        t_inputs = torch.tensor(inputs.astype(\"int16\")).cuda()\n",
        "        t_truths1 = torch.tensor(truths1.astype(\"int16\")).cuda()\n",
        "        t_truths2 = torch.tensor(truths2.astype(\"int16\")).cuda()\n",
        "        \n",
        "        number_of_chunks = math.ceil(max(len(t_inputs), len(t_truths1), len(t_truths2))/16000)\n",
        "        \n",
        "        input_chunks = chunkate(t_inputs, number_of_chunks)\n",
        "        truth1_chunks = chunkate(t_truths1, number_of_chunks)\n",
        "        truth2_chunks = chunkate(t_truths2, number_of_chunks)\n",
        "        \n",
        "        for j in range(number_of_chunks):\n",
        "          pred = model(input_chunks[j].float().unsqueeze(0).unsqueeze(0)).squeeze(0)\n",
        "          loss1 = criterion(pred[:16000].float() * input_chunks[j].float(), truth1_chunks[j].float())\n",
        "          loss2 = criterion(pred[16000:].float() * input_chunks[j].float(), truth2_chunks[j].float())\n",
        "          batch_loss += loss1 + loss2\n",
        "          \n",
        "      \n",
        "      optimizer.zero_grad()\n",
        "      batch_loss.backward()\n",
        "      optimizer.step()\n",
        "      loss.append(batch_loss)\n",
        "      \n",
        "      # Calculating validation loss using \"get_loss\" function\n",
        "      val_loss1 = get_loss(model, valid_loader)\n",
        "      val_loss.append(val_loss1)\n",
        "      \n",
        "      loss_counter += 1\n",
        "      \n",
        "#       if loss_counter % 10 == 0:\n",
        "#         print(\"Batch \", loss_counter, \": \", batch_loss.item())\n",
        "      if loss_counter % 500 == 0:\n",
        "        plt.title(\"Training Curve\")\n",
        "        plt.plot(loss, label=\"Train\")\n",
        "        plt.plot(val_loss, label=\"Validation\")\n",
        "        plt.xlabel(\"Counter\")\n",
        "        plt.ylabel(\"Loss\")\n",
        "        plt.show()\n",
        "      if loss_counter % 1000 == 0:\n",
        "        model_name = \"RNN400\" + str(loss_counter)\n",
        "        torch.save(model.state_dict, \"/content/gdrive/My Drive/APS360 Project/Data/Model Checkpoints/\"+model_name)\n",
        "    if epoch % 10 == 0:\n",
        "      print(\"Train loss:\", batch_loss, \"Validation loss:\", val_loss1)"
      ],
      "execution_count": 0,
      "outputs": []
    },
    {
      "cell_type": "code",
      "metadata": {
        "id": "8HY7Q3pjE6t2",
        "colab_type": "code",
        "colab": {}
      },
      "source": [
        "modelA = BaselineRNN33(16000,1000)\n",
        "# train(modelA, train_loader, val_loader, num_epochs=500, learning_rate=1e-3) #train"
      ],
      "execution_count": 0,
      "outputs": []
    },
    {
      "cell_type": "code",
      "metadata": {
        "id": "3nGKNNBdr9OV",
        "colab_type": "code",
        "colab": {}
      },
      "source": [
        "#proper batching \n",
        "def get_loss(model, data_loader):\n",
        "  losses = []\n",
        "  criterion = nn.MSELoss()\n",
        "  for batchData, (truth1, truth2) in train_loader:  \n",
        "    batch_loss = 0 \n",
        "\n",
        "    batch_inputs = []\n",
        "    batch_truths1 = []\n",
        "    batch_truths2 = []\n",
        "\n",
        "    for i in range(len(batchData)):                \n",
        "      inputs = SPHFile(batchData[i]).content\n",
        "      truths1 = SPHFile(truth1[i]).content\n",
        "      truths2 = SPHFile(truth2[i]).content\n",
        "\n",
        "      t_inputs = torch.tensor(inputs.astype(\"int16\")).cuda()\n",
        "      t_truths1 = torch.tensor(truths1.astype(\"int16\")).cuda()\n",
        "      t_truths2 = torch.tensor(truths2.astype(\"int16\")).cuda()\n",
        "\n",
        "      number_of_chunks = math.ceil(max(len(t_inputs), len(t_truths1), len(t_truths2))/16000)\n",
        "\n",
        "      input_chunks = chunkate(t_inputs, number_of_chunks)\n",
        "      truth1_chunks = chunkate(t_truths1, number_of_chunks)\n",
        "      truth2_chunks = chunkate(t_truths2, number_of_chunks)\n",
        "\n",
        "      for j in range(number_of_chunks):\n",
        "        batch_inputs.append(input_chunks[j].float().cuda())\n",
        "        batch_truths1.append(truth1_chunks[j].float().cuda())\n",
        "        batch_truths2.append(truth2_chunks[j].float().cuda())\n",
        "\n",
        "    batch_inputs = torch.stack(batch_inputs).cuda()\n",
        "    batch_truths1 = torch.stack(batch_truths1).cuda()\n",
        "    batch_truths2 = torch.stack(batch_truths2).cuda()\n",
        "\n",
        "    pred = model(batch_inputs.unsqueeze(1))\n",
        "\n",
        "    loss1 = criterion(pred[:, :16000].float() * batch_inputs, batch_truths1)\n",
        "    loss2 = criterion(pred[:, 16000:].float() * batch_inputs, batch_truths2)\n",
        "\n",
        "    batch_loss = (loss1 + loss2)/len(pred)\n",
        "    losses.append(batch_loss.item())\n",
        "    break\n",
        "  average_loss = np.array(losses).mean()\n",
        "  return average_loss\n",
        "\n",
        "\n",
        "def train(model, train_loader, valid_loader, num_epochs=5, learning_rate=1e-4): \n",
        "  criterion = nn.MSELoss()\n",
        "  optimizer = torch.optim.Adam(model.parameters(), lr=learning_rate)        \n",
        "  loss = []\n",
        "  val_loss = [] # an array of validation losses\n",
        "  loss_counter = 0\n",
        "  for epoch in range(num_epochs): \n",
        "    for batchData, (truth1, truth2) in train_loader:  \n",
        "      batch_loss = 0 \n",
        "      \n",
        "      batch_inputs = []\n",
        "      batch_truths1 = []\n",
        "      batch_truths2 = []\n",
        "      \n",
        "      for i in range(len(batchData)):                \n",
        "        inputs = SPHFile(batchData[i]).content\n",
        "        truths1 = SPHFile(truth1[i]).content\n",
        "        truths2 = SPHFile(truth2[i]).content\n",
        "\n",
        "        t_inputs = torch.tensor(inputs.astype(\"int16\")).cuda()\n",
        "        t_truths1 = torch.tensor(truths1.astype(\"int16\")).cuda()\n",
        "        t_truths2 = torch.tensor(truths2.astype(\"int16\")).cuda()\n",
        "        \n",
        "        number_of_chunks = math.ceil(max(len(t_inputs), len(t_truths1), len(t_truths2))/16000)\n",
        "        \n",
        "        input_chunks = chunkate(t_inputs, number_of_chunks)\n",
        "        truth1_chunks = chunkate(t_truths1, number_of_chunks)\n",
        "        truth2_chunks = chunkate(t_truths2, number_of_chunks)\n",
        "        \n",
        "#         print(len(inputs))\n",
        "#         print(number_of_chunks)\n",
        "        \n",
        "        for j in range(number_of_chunks):\n",
        "          batch_inputs.append(input_chunks[j].float().cuda())\n",
        "          batch_truths1.append(truth1_chunks[j].float().cuda())\n",
        "          batch_truths2.append(truth2_chunks[j].float().cuda())\n",
        "      \n",
        "      batch_inputs = torch.stack(batch_inputs).cuda()\n",
        "      batch_truths1 = torch.stack(batch_truths1).cuda()\n",
        "      batch_truths2 = torch.stack(batch_truths2).cuda()\n",
        "      \n",
        "      pred = model(batch_inputs.unsqueeze(1))\n",
        "      \n",
        "#       print(\"Done prediction\")\n",
        "      loss1 = criterion(pred[:, :16000].float() * batch_inputs, batch_truths1)\n",
        "      loss2 = criterion(pred[:, 16000:].float() * batch_inputs, batch_truths2)\n",
        "      \n",
        "      batch_loss = (loss1 + loss2)/len(pred)\n",
        "#       print(\"Got loss\")\n",
        "      \n",
        "      optimizer.zero_grad()\n",
        "      batch_loss.backward()\n",
        "      optimizer.step()\n",
        "      loss.append(batch_loss)\n",
        "      \n",
        "#       print(\"Done backward pass\")\n",
        "      \n",
        "      # Calculating validation loss using \"get_loss\" function\n",
        "      val_loss1 = get_loss(model, valid_loader)\n",
        "#       print(\"Got val loss\")\n",
        "      val_loss.append(val_loss1)\n",
        "      print(\"Train loss:\", batch_loss.item(), \"Validation loss:\", val_loss1)\n",
        "      loss_counter += 1\n",
        "      \n",
        "#       if loss_counter % 10 == 0:\n",
        "#         print(\"Batch \", loss_counter, \": \", batch_loss.item())\n",
        "      if loss_counter % 10 == 0:\n",
        "        plt.title(\"Training Curve\")\n",
        "        plt.plot(loss, label=\"Train\")\n",
        "        plt.plot(val_loss, label=\"Validation\")\n",
        "        plt.xlabel(\"Counter\")\n",
        "        plt.ylabel(\"Loss\")\n",
        "        plt.show()\n",
        "      if loss_counter % 1000 == 0:\n",
        "        model_name = \"RNN400\" + str(loss_counter)\n",
        "        torch.save(model.state_dict, \"/content/gdrive/My Drive/APS360 Project/Data/Model Checkpoints/\"+model_name)\n",
        "    if epoch % 1 == 0:\n",
        "      print(\"Epoch loss:\", batch_loss.item(), \"Validation loss:\", val_loss1)"
      ],
      "execution_count": 0,
      "outputs": []
    },
    {
      "cell_type": "code",
      "metadata": {
        "id": "S95xo9-ZWTZk",
        "colab_type": "code",
        "outputId": "bef565c7-82c2-4bee-c5ca-d03d14f7adc6",
        "colab": {
          "base_uri": "https://localhost:8080/",
          "height": 68
        }
      },
      "source": [
        "train_set = DataFile(\"/content/gdrive/My Drive/APS360 Project/Data/Train/\")\n",
        "train_loader = DataLoader(train_set, batch_size=32, shuffle=True, num_workers=0)\n",
        "print(len(train_set))\n",
        "\n",
        "val_set = DataFile(\"/content/gdrive/My Drive/APS360 Project/Data/Val/\")\n",
        "val_loader = DataLoader(val_set, batch_size=32, shuffle=True, num_workers=0)\n",
        "print(len(val_set))\n",
        "\n",
        "test_set = DataFile(\"/content/gdrive/My Drive/APS360 Project/Data/Test/\")\n",
        "test_loader = DataLoader(test_set, batch_size=32, shuffle=True, num_workers=0)\n",
        "print(len(test_set))"
      ],
      "execution_count": 0,
      "outputs": [
        {
          "output_type": "stream",
          "text": [
            "5975\n",
            "3984\n",
            "1000\n"
          ],
          "name": "stdout"
        }
      ]
    },
    {
      "cell_type": "code",
      "metadata": {
        "id": "H536WRo0yI5h",
        "colab_type": "code",
        "colab": {}
      },
      "source": [
        "baseline = BaselineRNN33(16000,100)\n",
        "train(baseline, train_loader, val_loader, num_epochs=10, learning_rate=1e-3) #train"
      ],
      "execution_count": 0,
      "outputs": []
    },
    {
      "cell_type": "code",
      "metadata": {
        "id": "74r9ujH50GhG",
        "colab_type": "code",
        "colab": {}
      },
      "source": [
        "actual = BaselineRNN33(16000,1000)\n",
        "train(actual, train_loader, val_loader, num_epochs=10, learning_rate=1e-3) #train"
      ],
      "execution_count": 0,
      "outputs": []
    },
    {
      "cell_type": "code",
      "metadata": {
        "id": "QqQH9Gi5y_ei",
        "colab_type": "code",
        "colab": {}
      },
      "source": [
        "i = 0\n",
        "for x in train_loader:\n",
        "  inputs = torch.tensor(SPHFile(x[0][0]).content.astype(\"int16\"))  #get the file\n",
        "  i+=1\n",
        "  if i == 1:\n",
        "    break\n",
        "\n",
        "number_of_chunks = math.ceil(len(inputs)/16000)\n",
        "input_chunks = chunkate(inputs, number_of_chunks)\n",
        "\n",
        "speaker1 = torch.tensor([])\n",
        "speaker2 = torch.tensor([])\n",
        "\n",
        "for j in range(number_of_chunks):\n",
        "  masks = baseline(input_chunks[j].float().unsqueeze(0).unsqueeze(0)).squeeze(0)  \n",
        "  out_chunk1 = input_chunks[j].squeeze() * masks.squeeze()[:16000]  #multiply the first half of the mask by the overlay file\n",
        "  out_chunk2 = input_chunks[j].squeeze() * masks.squeeze()[16000:]  #multiply the second half of the mask by the overlay file\n",
        "  speaker1 = torch.cat((speaker1, out_chunk1.cpu()))\n",
        "  speaker2 = torch.cat((speaker2, out_chunk2.cpu()))\n",
        "\n",
        "\n",
        "export_this1 = speaker1.detach().numpy() #ugh\n",
        "export_this2 = speaker2.detach().numpy() #not this again\n",
        "\n",
        "wavio.write(\"/content/gdrive/My Drive/APS360 Project/Data/testBaseline1.wav\", export_this1.astype(\"int16\"), 16000)  #output the first dude\n",
        "wavio.write(\"/content/gdrive/My Drive/APS360 Project/Data/testBaseline2.wav\", export_this2.astype(\"int16\"), 16000)  #output the second dude\n",
        "wavio.write(\"/content/gdrive/My Drive/APS360 Project/Data/testBaseline3.wav\", inputs.detach().numpy().astype(\"int16\"), 16000) #output the original file to make sure \n",
        "                                                                                                                        #i wasnt doing anything wrong\n",
        "  \n",
        "for j in range(number_of_chunks):\n",
        "  masks = actual(input_chunks[j].float().unsqueeze(0).unsqueeze(0)).squeeze(0)  \n",
        "  out_chunk1 = input_chunks[j].squeeze() * masks.squeeze()[:16000]  #multiply the first half of the mask by the overlay file\n",
        "  out_chunk2 = input_chunks[j].squeeze() * masks.squeeze()[16000:]  #multiply the second half of the mask by the overlay file\n",
        "  speaker1 = torch.cat((speaker1, out_chunk1.cpu()))\n",
        "  speaker2 = torch.cat((speaker2, out_chunk2.cpu()))\n",
        "\n",
        "\n",
        "export_this1 = speaker1.detach().numpy() #ugh\n",
        "export_this2 = speaker2.detach().numpy() #not this again\n",
        "\n",
        "wavio.write(\"/content/gdrive/My Drive/APS360 Project/Data/testActual1.wav\", export_this1.astype(\"int16\"), 16000)  #output the first dude\n",
        "wavio.write(\"/content/gdrive/My Drive/APS360 Project/Data/testActual2.wav\", export_this2.astype(\"int16\"), 16000)  #output the second dude\n",
        "wavio.write(\"/content/gdrive/My Drive/APS360 Project/Data/testActual3.wav\", inputs.detach().numpy().astype(\"int16\"), 16000) #output the original file to make sure \n",
        "                                                                                                                        #i wasnt doing anything wrong"
      ],
      "execution_count": 0,
      "outputs": []
    },
    {
      "cell_type": "code",
      "metadata": {
        "id": "ev-J-vFiA2Lw",
        "colab_type": "code",
        "colab": {}
      },
      "source": [
        "class KhaledNetRNN4(nn.Module):\n",
        "  def __init__(self, input_size, hidden_size):\n",
        "    super(KhaledNetRNN4, self).__init__()\n",
        "    self.hidden_size = hidden_size\n",
        "    self.name = \"KhaledNetRNN4\"\n",
        "    self.rnn = nn.RNN(input_size, hidden_size, batch_first=True, num_layers=5).cuda()\n",
        "    self.fc = nn.Linear(hidden_size, input_size*2).cuda()\n",
        "  \n",
        "  def forward(self, x):\n",
        "    h0 = torch.zeros(5, x.size(0), self.hidden_size).cuda()\n",
        "    x.cuda()\n",
        "    output, _ = self.rnn(x, h0)\n",
        "    output = self.fc(output[:, -1, :])\n",
        "    return output"
      ],
      "execution_count": 0,
      "outputs": []
    },
    {
      "cell_type": "code",
      "metadata": {
        "id": "oMspjaTkTfmg",
        "colab_type": "code",
        "colab": {}
      },
      "source": [
        "deep_model = KhaledNetRNN4(16000,10)"
      ],
      "execution_count": 0,
      "outputs": []
    },
    {
      "cell_type": "code",
      "metadata": {
        "id": "610NDDRpTiV1",
        "colab_type": "code",
        "colab": {}
      },
      "source": [
        "train(deep_model, train_loader, val_loader, num_epochs=1, learning_rate=1e-4) #train"
      ],
      "execution_count": 0,
      "outputs": []
    },
    {
      "cell_type": "code",
      "metadata": {
        "id": "ESwPeVU3TlAt",
        "colab_type": "code",
        "colab": {}
      },
      "source": [
        "class KhaledNetGRU(nn.Module):\n",
        "  def __init__(self, input_size, hidden_size):\n",
        "    super(KhaledNetGRU, self).__init__()\n",
        "    self.hidden_size = hidden_size\n",
        "    self.name = \"KhaledNetGRU\"\n",
        "    self.rnn = nn.GRU(input_size, hidden_size, batch_first=True, num_layers = 2).cuda()\n",
        "    self.fc = nn.Linear(hidden_size, input_size*2).cuda()\n",
        "  \n",
        "  def forward(self, x):\n",
        "    h0 = torch.zeros(2, x.size(0), self.hidden_size).cuda()\n",
        "    x.cuda()\n",
        "    output, _ = self.rnn(x, h0)\n",
        "    output = self.fc(output[:, -1, :])\n",
        "    return output"
      ],
      "execution_count": 0,
      "outputs": []
    },
    {
      "cell_type": "code",
      "metadata": {
        "id": "c_ZKG8YpJhFU",
        "colab_type": "code",
        "colab": {}
      },
      "source": [
        "GRU_model = KhaledNetGRU(16000,100)"
      ],
      "execution_count": 0,
      "outputs": []
    },
    {
      "cell_type": "code",
      "metadata": {
        "id": "sHf2TajfK3Jq",
        "colab_type": "code",
        "outputId": "7093a09a-45b3-4fb2-ba29-1dc9f0e9a248",
        "colab": {
          "base_uri": "https://localhost:8080/",
          "height": 164
        }
      },
      "source": [
        "train(GRU_model, train_loader, val_loader, num_epochs=1000, learning_rate=1e-2) #train"
      ],
      "execution_count": 0,
      "outputs": [
        {
          "output_type": "error",
          "ename": "NameError",
          "evalue": "ignored",
          "traceback": [
            "\u001b[0;31m---------------------------------------------------------------------------\u001b[0m",
            "\u001b[0;31mNameError\u001b[0m                                 Traceback (most recent call last)",
            "\u001b[0;32m<ipython-input-1-9cccdf761f1b>\u001b[0m in \u001b[0;36m<module>\u001b[0;34m()\u001b[0m\n\u001b[0;32m----> 1\u001b[0;31m \u001b[0mtrain\u001b[0m\u001b[0;34m(\u001b[0m\u001b[0mGRU_model\u001b[0m\u001b[0;34m,\u001b[0m \u001b[0mtrain_loader\u001b[0m\u001b[0;34m,\u001b[0m \u001b[0mval_loader\u001b[0m\u001b[0;34m,\u001b[0m \u001b[0mnum_epochs\u001b[0m\u001b[0;34m=\u001b[0m\u001b[0;36m1000\u001b[0m\u001b[0;34m,\u001b[0m \u001b[0mlearning_rate\u001b[0m\u001b[0;34m=\u001b[0m\u001b[0;36m1e-2\u001b[0m\u001b[0;34m)\u001b[0m \u001b[0;31m#train\u001b[0m\u001b[0;34m\u001b[0m\u001b[0;34m\u001b[0m\u001b[0m\n\u001b[0m",
            "\u001b[0;31mNameError\u001b[0m: name 'train' is not defined"
          ]
        }
      ]
    },
    {
      "cell_type": "code",
      "metadata": {
        "id": "WFhzNQIcK9bR",
        "colab_type": "code",
        "colab": {}
      },
      "source": [
        "i = 0\n",
        "for x in train_loader:\n",
        "  inputs = torch.tensor(SPHFile(x[0][0]).content.astype(\"int16\"))  #get the file\n",
        "  i+=1\n",
        "  if i == 1:\n",
        "    break\n",
        "\n",
        "number_of_chunks = math.ceil(len(inputs)/16000)\n",
        "input_chunks = chunkate(inputs, number_of_chunks)\n",
        "\n",
        "speaker1 = torch.tensor([])\n",
        "speaker2 = torch.tensor([])\n",
        "\n",
        "for j in range(number_of_chunks):\n",
        "  masks = GRU_model(input_chunks[j].float().unsqueeze(0).unsqueeze(0)).squeeze(0)  \n",
        "  out_chunk1 = input_chunks[j].squeeze() * masks.squeeze()[:16000]  #multiply the first half of the mask by the overlay file\n",
        "  out_chunk2 = input_chunks[j].squeeze() * masks.squeeze()[16000:]  #multiply the second half of the mask by the overlay file\n",
        "  speaker1 = torch.cat((speaker1, out_chunk1.cpu()))\n",
        "  speaker2 = torch.cat((speaker2, out_chunk2.cpu()))\n",
        "\n",
        "\n",
        "export_this1 = speaker1.detach().numpy() #ugh\n",
        "export_this2 = speaker2.detach().numpy() #not this again\n",
        "\n",
        "wavio.write(\"/content/gdrive/My Drive/APS360 Project/Data/GRU1.wav\", export_this1.astype(\"int16\"), 16000)  #output the first dude\n",
        "wavio.write(\"/content/gdrive/My Drive/APS360 Project/Data/GRU2.wav\", export_this2.astype(\"int16\"), 16000)  #output the second dude\n",
        "wavio.write(\"/content/gdrive/My Drive/APS360 Project/Data/GRU3.wav\", inputs.detach().numpy().astype(\"int16\"), 16000) #output the original file to make sure \n",
        "                                                                                                                        #i wasnt doing anything wrong"
      ],
      "execution_count": 0,
      "outputs": []
    },
    {
      "cell_type": "code",
      "metadata": {
        "id": "4uMzwmt-VWHX",
        "colab_type": "code",
        "colab": {}
      },
      "source": [
        ""
      ],
      "execution_count": 0,
      "outputs": []
    }
  ]
}